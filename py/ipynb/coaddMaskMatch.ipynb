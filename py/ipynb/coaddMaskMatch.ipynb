{
 "cells": [
  {
   "cell_type": "code",
   "execution_count": 117,
   "metadata": {
    "collapsed": false
   },
   "outputs": [
    {
     "name": "stdout",
     "output_type": "stream",
     "text": [
      "Populating the interactive namespace from numpy and matplotlib\n",
      "The autoreload extension is already loaded. To reload it, use:\n",
      "  %reload_ext autoreload\n"
     ]
    },
    {
     "name": "stderr",
     "output_type": "stream",
     "text": [
      "WARNING: pylab import has clobbered these variables: ['copy', 'Polygon']\n",
      "`%matplotlib` prevents importing * from pylab and numpy\n"
     ]
    }
   ],
   "source": [
    "%pylab inline\n",
    "%load_ext autoreload\n",
    "%autoreload 2\n",
    "\n",
    "from __future__ import division\n",
    "\n",
    "import copy\n",
    "import os\n",
    "import argparse\n",
    "import numpy as np\n",
    "\n",
    "# Astropy related\n",
    "from astropy.io import fits\n",
    "\n",
    "# Matplotlib default settings\n",
    "import matplotlib as mpl\n",
    "import matplotlib.pyplot as plt\n",
    "mpl.rcParams['figure.figsize'] = 12, 10\n",
    "mpl.rcParams['xtick.major.size'] = 8.0\n",
    "mpl.rcParams['xtick.major.width'] = 1.5\n",
    "mpl.rcParams['xtick.minor.size'] = 4.0\n",
    "mpl.rcParams['xtick.minor.width'] = 1.5\n",
    "mpl.rcParams['ytick.major.size'] = 8.0\n",
    "mpl.rcParams['ytick.major.width'] = 1.5\n",
    "mpl.rcParams['ytick.minor.size'] = 4.0\n",
    "mpl.rcParams['ytick.minor.width'] = 1.5\n",
    "mpl.rc('axes', linewidth=2)\n",
    "\n",
    "# Shapely related imports\n",
    "from shapely.geometry import Polygon, LineString, Point\n",
    "from shapely          import wkb\n",
    "from shapely.ops      import cascaded_union\n",
    "\n",
    "# Personal codes\n",
    "from coaddPatchShape import polyReadWkb"
   ]
  },
  {
   "cell_type": "code",
   "execution_count": 122,
   "metadata": {
    "collapsed": true
   },
   "outputs": [],
   "source": [
    "inCat = '/home/song/work/hs_hsc/py/data/test_extra_cat.fits'\n",
    "acpMask = '/home/song/work/hs_hsc/py/ipynb/ssp341_cosmos_HSC-I_corners.wkb'\n",
    "rejMask = '/home/song/work/hs_hsc/py/ipynb/ssp341_cosmos_0_HSC-I_nodata_big.wkb'"
   ]
  },
  {
   "cell_type": "code",
   "execution_count": 123,
   "metadata": {
    "collapsed": false
   },
   "outputs": [],
   "source": [
    "catHdu = fits.open(inCat)\n",
    "catData = catHdu[1].data"
   ]
  },
  {
   "cell_type": "code",
   "execution_count": 124,
   "metadata": {
    "collapsed": false
   },
   "outputs": [],
   "source": [
    "raArr = catData.field('RA')\n",
    "decArr = catData.field('DEC')"
   ]
  },
  {
   "cell_type": "code",
   "execution_count": 125,
   "metadata": {
    "collapsed": false
   },
   "outputs": [],
   "source": [
    "acpRegs = polyReadWkb(acpMask)\n",
    "rejRegs = polyReadWkb(rejMask)"
   ]
  },
  {
   "cell_type": "code",
   "execution_count": 126,
   "metadata": {
    "collapsed": false
   },
   "outputs": [
    {
     "data": {
      "image/svg+xml": [
       "<svg xmlns=\"http://www.w3.org/2000/svg\" xmlns:xlink=\"http://www.w3.org/1999/xlink\" width=\"100.0\" height=\"100.0\" viewBox=\"148.975838013 1.2781707716 2.21957336426 1.85370992184\" preserveAspectRatio=\"xMinYMin meet\"><g transform=\"matrix(1,0,0,-1,0,4.41005146503)\"><path fill-rule=\"evenodd\" fill=\"#66cc99\" stroke=\"#555555\" stroke-width=\"0.0443914672852\" opacity=\"0.6\" d=\"M 150.743637085,1.3603771925 L 150.552059401,1.3604215832 L 150.365449309,1.36045052087 L 150.178870734,1.36046493053 L 149.992241326,1.36046493053 L 149.805662751,1.36045052087 L 149.61905266,1.3604215832 L 149.427474976,1.3603771925 L 149.427387783,1.54699890954 L 149.240707397,1.54693317413 L 149.240585327,1.74289298058 L 149.240594773,1.74289298432 L 149.240484329,1.92019883544 L 149.058441162,1.92009973526 L 149.058310373,2.10673404131 L 149.058303833,2.1067340374 L 149.058187575,2.2933707275 L 149.058181763,2.29337072372 L 149.058044434,2.48933672905 L 149.240168254,2.48946531554 L 149.240071614,2.66677236865 L 149.240066528,2.66677236557 L 149.239959717,2.86273217201 L 149.426803589,2.86285387192 L 149.426803589,2.86285448074 L 149.426814488,2.86285448607 L 149.426727295,3.04947662354 L 149.613616944,3.04957380296 L 149.613616943,3.04957461357 L 149.618282825,3.04957622913 L 149.622970581,3.04957866669 L 149.622970581,3.04957785227 L 149.800521851,3.04963932945 L 149.800521851,3.04964017868 L 149.805444037,3.04964103376 L 149.809860229,3.04964256287 L 149.80986023,3.04964180094 L 149.987426758,3.04967264763 L 149.987426758,3.04967331886 L 149.991290646,3.04967331886 L 149.996780396,3.04967427254 L 149.996780396,3.04967331886 L 150.174346924,3.04967331886 L 150.174346924,3.04967427254 L 150.179836247,3.04967331886 L 150.183685303,3.04967331886 L 150.183685303,3.04967265016 L 150.361251831,3.04964180106 L 150.361251831,3.04964256287 L 150.365667639,3.04964103389 L 150.37059021,3.04964017868 L 150.37059021,3.04963932945 L 150.548156738,3.04957784699 L 150.548156738,3.04957866669 L 150.552873807,3.0495762137 L 150.557495117,3.04957461357 L 150.557495117,3.04957381051 L 150.744384766,3.04947662354 L 150.744312105,2.86285387949 L 150.931167603,2.86273217201 L 150.931065877,2.67610342112 L 151.113204956,2.67596530914 L 151.113067627,2.48000526428 L 151.113061814,2.48000526837 L 151.112945557,2.29337072372 L 151.112939017,2.29337072798 L 151.112808228,2.1067340374 L 151.112802415,2.10673404087 L 151.112686157,1.92009973526 L 151.112679618,1.92009973882 L 151.112548828,1.73347127438 L 150.930521647,1.73356085647 L 150.930419922,1.54693317413 L 150.743724278,1.5469989098 L 150.743637085,1.3603771925 z\" /></g></svg>"
      ],
      "text/plain": [
       "<shapely.geometry.polygon.Polygon at 0x6ee54d0>"
      ]
     },
     "execution_count": 126,
     "metadata": {},
     "output_type": "execute_result"
    }
   ],
   "source": [
    "acpRegs"
   ]
  },
  {
   "cell_type": "code",
   "execution_count": 127,
   "metadata": {
    "collapsed": false
   },
   "outputs": [
    {
     "data": {
      "text/plain": [
       "<matplotlib.collections.PathCollection at 0x728fa50>"
      ]
     },
     "execution_count": 127,
     "metadata": {},
     "output_type": "execute_result"
    },
    {
     "data": {
      "image/png": "[encoded data removed]",
      "text/plain": [
       "<matplotlib.figure.Figure at 0x6ee53d0>"
      ]
     },
     "metadata": {},
     "output_type": "display_data"
    }
   ],
   "source": [
    "plt.scatter(raArr, decArr, s=60)"
   ]
  },
  {
   "cell_type": "code",
   "execution_count": 128,
   "metadata": {
    "collapsed": false
   },
   "outputs": [],
   "source": [
    "inside = map(lambda x, y: acpRegs.contains(Point(x, y)), raArr, decArr)"
   ]
  },
  {
   "cell_type": "code",
   "execution_count": 129,
   "metadata": {
    "collapsed": false
   },
   "outputs": [],
   "source": [
    "masked = map(lambda x, y: rejRegs.contains(Point(x, y)), raArr, decArr)"
   ]
  },
  {
   "cell_type": "code",
   "execution_count": 130,
   "metadata": {
    "collapsed": false
   },
   "outputs": [],
   "source": [
    "useful = map(lambda x, y: x and (not y), inside, masked)"
   ]
  },
  {
   "cell_type": "code",
   "execution_count": 131,
   "metadata": {
    "collapsed": false
   },
   "outputs": [],
   "source": [
    "matched = catData[np.asarray(useful)]"
   ]
  },
  {
   "cell_type": "code",
   "execution_count": 132,
   "metadata": {
    "collapsed": false
   },
   "outputs": [],
   "source": [
    "from astropy.table import Table\n",
    "tab = Table.read(inCat, format='fits')"
   ]
  },
  {
   "cell_type": "code",
   "execution_count": 133,
   "metadata": {
    "collapsed": false
   },
   "outputs": [],
   "source": [
    "mat = tab[np.asarray(useful)]"
   ]
  },
  {
   "cell_type": "code",
   "execution_count": 134,
   "metadata": {
    "collapsed": false
   },
   "outputs": [
    {
     "data": {
      "text/plain": [
       "'/home/song/work/hs_hsc/py/data/test_extra_cat'"
      ]
     },
     "execution_count": 134,
     "metadata": {},
     "output_type": "execute_result"
    }
   ],
   "source": [
    "os.path.splitext(inCat)[0]"
   ]
  },
  {
   "cell_type": "code",
   "execution_count": 135,
   "metadata": {
    "collapsed": false
   },
   "outputs": [],
   "source": [
    "raCol = np.asarray(map(lambda x: x == 'RA', cols))"
   ]
  },
  {
   "cell_type": "code",
   "execution_count": 136,
   "metadata": {
    "collapsed": false
   },
   "outputs": [
    {
     "data": {
      "text/plain": [
       "62"
      ]
     },
     "execution_count": 136,
     "metadata": {},
     "output_type": "execute_result"
    }
   ],
   "source": [
    "len(mat)"
   ]
  },
  {
   "cell_type": "code",
   "execution_count": 137,
   "metadata": {
    "collapsed": false
   },
   "outputs": [
    {
     "data": {
      "text/plain": [
       "62"
      ]
     },
     "execution_count": 137,
     "metadata": {},
     "output_type": "execute_result"
    }
   ],
   "source": [
    "len(catData)"
   ]
  },
  {
   "cell_type": "code",
   "execution_count": 138,
   "metadata": {
    "collapsed": false
   },
   "outputs": [],
   "source": [
    "acpRange= []\n",
    "acpRange.append(acpRegs.bounds)"
   ]
  },
  {
   "cell_type": "code",
   "execution_count": 139,
   "metadata": {
    "collapsed": false
   },
   "outputs": [
    {
     "data": {
      "text/plain": [
       "[(149.05804443359375,\n",
       "  1.3603771924972534,\n",
       "  151.1132049560547,\n",
       "  3.0496742725372314)]"
      ]
     },
     "execution_count": 139,
     "metadata": {},
     "output_type": "execute_result"
    }
   ],
   "source": [
    "acpRange"
   ]
  },
  {
   "cell_type": "code",
   "execution_count": 140,
   "metadata": {
    "collapsed": true
   },
   "outputs": [],
   "source": [
    "from numpy.random import uniform \n",
    "raRand = uniform(low=148.0, high=151.5, size=200)\n",
    "decRand = uniform(low=1.30, high=3.20, size=200)"
   ]
  },
  {
   "cell_type": "code",
   "execution_count": 141,
   "metadata": {
    "collapsed": false
   },
   "outputs": [
    {
     "data": {
      "text/plain": [
       "<matplotlib.collections.PathCollection at 0x89eb750>"
      ]
     },
     "execution_count": 141,
     "metadata": {},
     "output_type": "execute_result"
    },
    {
     "data": {
      "image/png": "[encoded data removed]",
      "text/plain": [
       "<matplotlib.figure.Figure at 0x7405c90>"
      ]
     },
     "metadata": {},
     "output_type": "display_data"
    }
   ],
   "source": [
    "plt.scatter(raRand, decRand, s=50, c='r')"
   ]
  },
  {
   "cell_type": "code",
   "execution_count": 142,
   "metadata": {
    "collapsed": false
   },
   "outputs": [
    {
     "name": "stdout",
     "output_type": "stream",
     "text": [
      "('Time used:', 0.21000000000003638)\n"
     ]
    }
   ],
   "source": [
    "import time \n",
    "start = time.clock()\n",
    "\n",
    "rejComb = cascaded_union(rejRegs)\n",
    "inside = map(lambda x, y: acpRegs.contains(Point(x, y)), raRand, decRand)\n",
    "masked = map(lambda x, y: rejComb.contains(Point(x, y)), raRand, decRand)\n",
    "useful = map(lambda x, y: x and (not y), inside, masked)\n",
    "\n",
    "elapsed = (time.clock() - start)\n",
    "print(\"Time used:\",elapsed)"
   ]
  },
  {
   "cell_type": "code",
   "execution_count": 143,
   "metadata": {
    "collapsed": false
   },
   "outputs": [
    {
     "name": "stdout",
     "output_type": "stream",
     "text": [
      "64\n"
     ]
    }
   ],
   "source": [
    "matched = raRand[np.asarray(useful)]\n",
    "print len(matched)"
   ]
  }
 ],
 "metadata": {
  "kernelspec": {
   "display_name": "Python 2",
   "language": "python",
   "name": "python2"
  },
  "language_info": {
   "codemirror_mode": {
    "name": "ipython",
    "version": 2
   },
   "file_extension": ".py",
   "mimetype": "text/x-python",
   "name": "python",
   "nbconvert_exporter": "python",
   "pygments_lexer": "ipython2",
   "version": "2.7.6"
  }
 },
 "nbformat": 4,
 "nbformat_minor": 0
}
