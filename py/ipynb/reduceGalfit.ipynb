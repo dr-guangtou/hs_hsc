{
 "cells": [
  {
   "cell_type": "code",
   "execution_count": 1,
   "metadata": {
    "collapsed": false
   },
   "outputs": [
    {
     "name": "stdout",
     "output_type": "stream",
     "text": [
      "Populating the interactive namespace from numpy and matplotlib\n"
     ]
    }
   ],
   "source": [
    "%pylab inline\n",
    "\n",
    "from __future__ import division \n",
    "\n",
    "import os \n",
    "import re \n",
    "import copy\n",
    "import numpy as np\n",
    "\n",
    "# Matplotlib default settings\n",
    "rcdef = plt.rcParams.copy()\n",
    "pylab.rcParams['figure.figsize'] = 12, 10\n",
    "pylab.rcParams['xtick.major.size'] = 8.0\n",
    "pylab.rcParams['xtick.major.width'] = 1.5\n",
    "pylab.rcParams['xtick.minor.size'] = 4.0\n",
    "pylab.rcParams['xtick.minor.width'] = 1.5\n",
    "pylab.rcParams['ytick.major.size'] = 8.0\n",
    "pylab.rcParams['ytick.major.width'] = 1.5\n",
    "pylab.rcParams['ytick.minor.size'] = 4.0\n",
    "pylab.rcParams['ytick.minor.width'] = 1.5\n",
    "rc('axes', linewidth=2)\n",
    "\n",
    "from astropy.io import fits \n",
    "from astropy import units as u\n",
    "from astropy.stats import sigma_clip\n",
    "\n",
    "import cubehelix  # Cubehelix color scheme from https://github.com/jradavenport/cubehelix\n",
    "\n",
    "cmap1 = cubehelix.cmap(start=0.5, rot=-0.8, gamma=1.0, \n",
    "                       minSat=1.2, maxSat=1.2, \n",
    "                       minLight=0.0, maxLight=1.0)\n",
    "cmap2 = cubehelix.cmap(start=2.0, rot=-1.0, gamma=2.5, \n",
    "                       minSat=1.2, maxSat=1.2, \n",
    "                       minLight=0.0, maxLight=1.0, reverse=True)\n",
    "cmap3 = cubehelix.cmap(start=0.5, rot=-0.8, gamma=1.2, \n",
    "                       minSat=1.2, maxSat=1.2, \n",
    "                       minLight=0.0, maxLight=1.0)\n",
    "cmap4 = cubehelix.cmap(start=0.5, rot=-0.8, gamma=0.7, \n",
    "                       minSat=1.2, maxSat=1.2, \n",
    "                       minLight=0.0, maxLight=1.0)\n",
    "\n",
    "import galfitParser as gPar"
   ]
  },
  {
   "cell_type": "code",
   "execution_count": 2,
   "metadata": {
    "collapsed": true
   },
   "outputs": [],
   "source": [
    "# Input data \n",
    "output = '/Users/songhuang/Downloads/hsc_cutout/hectomap/hectomanga_6_ell/hectoManga_6_HSC-I_full_3comp.fits'"
   ]
  },
  {
   "cell_type": "code",
   "execution_count": 3,
   "metadata": {
    "collapsed": false
   },
   "outputs": [
    {
     "name": "stdout",
     "output_type": "stream",
     "text": [
      "4\n",
      "### Parameter :  1_XC\n",
      " ## Value :  ['1000.9561', '+/-', '0.0036']\n",
      "### Parameter :  1_YC\n",
      " ## Value :  ['1000.7797', '+/-', '0.0051']\n",
      "### Parameter :  1_MAG\n",
      " ## Value :  ['18.5854', '+/-', '0.0032']\n",
      "### Parameter :  1_RE\n",
      " ## Value :  ['1.7737', '+/-', '0.0039']\n",
      "### Parameter :  1_N\n",
      " ## Value :  ['1.2060', '+/-', '0.0089']\n",
      "### Parameter :  1_AR\n",
      " ## Value :  ['0.8160', '+/-', '0.0011']\n",
      "### Parameter :  1_PA\n",
      " ## Value :  ['46.3985', '+/-', '0.2439']\n",
      "### Parameter :  1_F1\n",
      " ## Value :  ['0.0441', '+/-', '0.0020']\n",
      "### Parameter :  1_F1PA\n",
      " ## Value :  ['28.6630', '+/-', '4.0593']\n",
      "### Parameter :  1_F4\n",
      " ## Value :  ['-0.0056', '+/-', '0.0019']\n",
      "### Parameter :  1_F4PA\n",
      " ## Value :  ['-5.6588', '+/-', '5.0869']\n",
      "### Parameter :  2_XC\n",
      " ## One parameter is constrained !\n",
      " ## Value :  ['1000.9561']\n",
      "### Parameter :  2_YC\n",
      " ## One parameter is constrained !\n",
      " ## Value :  ['1000.7797']\n",
      "### Parameter :  2_MAG\n",
      " ## Value :  ['16.3123', '+/-', '0.0071']\n",
      "### Parameter :  2_RE\n",
      " ## Value :  ['20.4074', '+/-', '0.0512']\n",
      "### Parameter :  2_N\n",
      " ## Value :  ['1.2053', '+/-', '0.0022']\n",
      "### Parameter :  2_AR\n",
      " ## Value :  ['0.8191', '+/-', '0.0023']\n",
      "### Parameter :  2_PA\n",
      " ## Value :  ['43.5999', '+/-', '0.1815']\n",
      "### Parameter :  2_F1\n",
      " ## Value :  ['0.0204', '+/-', '0.0003']\n",
      "### Parameter :  2_F1PA\n",
      " ## Value :  ['70.9503', '+/-', '1.2176']\n",
      "### Parameter :  2_F4\n",
      " ## Value :  ['0.0168', '+/-', '0.0003']\n",
      "### Parameter :  2_F4PA\n",
      " ## Value :  ['-5.4452', '+/-', '0.3411']\n",
      "### Parameter :  3_XC\n",
      " ## One parameter is constrained !\n",
      " ## Value :  ['1000.9561']\n",
      "### Parameter :  3_YC\n",
      " ## One parameter is constrained !\n",
      " ## Value :  ['1000.7797']\n",
      "### Parameter :  3_MAG\n",
      " ## Value :  ['15.4787', '+/-', '0.0036']\n",
      "### Parameter :  3_RE\n",
      " ## Value :  ['95.7713', '+/-', '0.2972']\n",
      "### Parameter :  3_N\n",
      " ## Value :  ['1.7384', '+/-', '0.0084']\n",
      "### Parameter :  3_AR\n",
      " ## Value :  ['0.4386', '+/-', '0.0005']\n",
      "### Parameter :  3_PA\n",
      " ## Value :  ['35.6996', '+/-', '0.0261']\n",
      "### Parameter :  3_F1\n",
      " ## Value :  ['-0.0290', '+/-', '0.0003']\n",
      "### Parameter :  3_F1PA\n",
      " ## Value :  ['-0.7137', '+/-', '1.0156']\n",
      "### Parameter :  3_F4\n",
      " ## Value :  ['0.0441', '+/-', '0.0003']\n",
      "### Parameter :  3_F4PA\n",
      " ## Value :  ['-3.7068', '+/-', '0.1191']\n",
      "### Parameter :  4_XC\n",
      " ## One parameter is fixed !\n",
      " ## Value :  ['1000.0000']\n",
      "### Parameter :  4_YC\n",
      " ## One parameter is fixed !\n",
      " ## Value :  ['1000.0000']\n",
      "### Parameter :  4_SKY\n",
      " ## Value :  ['-0.0129', '+/-', '0.0001']\n",
      "### Parameter :  4_DSDX\n",
      " ## Value :  ['-3.629e-07', '+/-', '1.645e-07']\n",
      "### Parameter :  4_DSDY\n",
      " ## Value :  ['1.375e-06', '+/-', '1.434e-07']\n"
     ]
    }
   ],
   "source": [
    "# Read in the images\n",
    "galOut = gPar.GalfitResults(output)"
   ]
  },
  {
   "cell_type": "code",
   "execution_count": 4,
   "metadata": {
    "collapsed": false
   },
   "outputs": [
    {
     "data": {
      "text/plain": [
       "'sky'"
      ]
     },
     "execution_count": 4,
     "metadata": {},
     "output_type": "execute_result"
    }
   ],
   "source": [
    "galOut.component_4.component_type"
   ]
  },
  {
   "cell_type": "code",
   "execution_count": 5,
   "metadata": {
    "collapsed": false
   },
   "outputs": [
    {
     "data": {
      "text/plain": [
       "'hectoManga_6_HSC-I_3comp.in'"
      ]
     },
     "execution_count": 5,
     "metadata": {},
     "output_type": "execute_result"
    }
   ],
   "source": [
    "galOut.input_initfile"
   ]
  },
  {
   "cell_type": "code",
   "execution_count": 6,
   "metadata": {
    "collapsed": false
   },
   "outputs": [
    {
     "data": {
      "text/plain": [
       "'galfit.05'"
      ]
     },
     "execution_count": 6,
     "metadata": {},
     "output_type": "execute_result"
    }
   ],
   "source": [
    "galOut.logfile"
   ]
  },
  {
   "cell_type": "code",
   "execution_count": 7,
   "metadata": {
    "collapsed": false
   },
   "outputs": [
    {
     "data": {
      "text/plain": [
       "800"
      ]
     },
     "execution_count": 7,
     "metadata": {},
     "output_type": "execute_result"
    }
   ],
   "source": [
    "galOut.convbox_x\n",
    "int(galOut.convbox_y)"
   ]
  },
  {
   "cell_type": "code",
   "execution_count": 8,
   "metadata": {
    "collapsed": false
   },
   "outputs": [
    {
     "data": {
      "text/plain": [
       "'400'"
      ]
     },
     "execution_count": 8,
     "metadata": {},
     "output_type": "execute_result"
    }
   ],
   "source": [
    "galOut.box_x0"
   ]
  },
  {
   "cell_type": "code",
   "execution_count": 9,
   "metadata": {
    "collapsed": true
   },
   "outputs": [],
   "source": [
    "hduList = fits.open(output)\n",
    "hduOri = hduList[1]\n",
    "hduMod = hduList[2]\n",
    "hduRes = hduList[3]"
   ]
  },
  {
   "cell_type": "code",
   "execution_count": 10,
   "metadata": {
    "collapsed": false
   },
   "outputs": [
    {
     "data": {
      "text/plain": [
       "XTENSION= 'IMAGE   '           / IMAGE extension                                \n",
       "BITPIX  =                  -32 / Bits per pixel                                 \n",
       "NAXIS   =                    2 / Number of axes                                 \n",
       "NAXIS1  =                 1201 / Length of data axis 1                          \n",
       "NAXIS2  =                 1201 / Length of data axis 2                          \n",
       "OBJECT  = 'model   '           / Component type                                 \n",
       "COMMENT ========== GALFIT Input Parameters ==========                           \n",
       "INITFILE= 'hectoManga_6_HSC-I_3comp.in' / GALFIT input file                     \n",
       "DATAIN  = 'hectoManga_6_HSC-I_full_img.fits' / Input data image                 \n",
       "SIGMA   = 'hectoManga_6_HSC-I_full_sig.fits' / Input sigma image                \n",
       "PSF     = 'hectoManga_6_HSC-I_full_psf.fits ' / Convolution PSF and kernel      \n",
       "CONSTRNT= '3comp.cons'         / Parameter constraint file                      \n",
       "MASK    = 'hectoManga_6_HSC-I_full_mskfin.fits' / Input mask image              \n",
       "FITSECT = '[400:1600,400:1600]' / Image section fitted                          \n",
       "CONVBOX = '800, 800'           / Convolution box size                           \n",
       "MAGZPT  =                  27. / Magnitude zeropoint                            \n",
       "COMMENT ========== GALFIT Final Parameters ==========                           \n",
       "COMP_1  = 'sersic  '           / Component type                                 \n",
       "1_XC    = '1000.9561 +/- 0.0036' / X center [pixel]                             \n",
       "1_YC    = '1000.7797 +/- 0.0051' / Y center [pixel]                             \n",
       "1_MAG   = '18.5854 +/- 0.0032' / Integrated magnitude [mag]                     \n",
       "1_RE    = '1.7737 +/- 0.0039'  / Effective radius Re [pixels]                   \n",
       "1_N     = '1.2060 +/- 0.0089'  / Sersic index                                   \n",
       "1_AR    = '0.8160 +/- 0.0011'  / Axis ratio (b/a)                               \n",
       "1_PA    = '46.3985 +/- 0.2439' / Position Angle (PA) [degrees: Up=0, Left=90]   \n",
       "1_F1    = '0.0441 +/- 0.0020'  / Azimuthal Fourier mode 1 amplitude             \n",
       "1_F1PA  = '28.6630 +/- 4.0593' / Azimuthal Fourier mode 1 phase angle           \n",
       "1_F4    = '-0.0056 +/- 0.0019' / Azimuthal Fourier mode 4 amplitude             \n",
       "1_F4PA  = '-5.6588 +/- 5.0869' / Azimuthal Fourier mode 4 phase angle           \n",
       "COMMENT ------------------------------------------------------------------------\n",
       "COMP_2  = 'sersic  '           / Component type                                 \n",
       "2_XC    = '{1000.9561}'        / X center [pixel]                               \n",
       "2_YC    = '{1000.7797}'        / Y center [pixel]                               \n",
       "2_MAG   = '16.3123 +/- 0.0071' / Integrated magnitude [mag]                     \n",
       "2_RE    = '20.4074 +/- 0.0512' / Effective radius Re [pixels]                   \n",
       "2_N     = '1.2053 +/- 0.0022'  / Sersic index                                   \n",
       "2_AR    = '0.8191 +/- 0.0023'  / Axis ratio (b/a)                               \n",
       "2_PA    = '43.5999 +/- 0.1815' / Position Angle (PA) [degrees: Up=0, Left=90]   \n",
       "2_F1    = '0.0204 +/- 0.0003'  / Azimuthal Fourier mode 1 amplitude             \n",
       "2_F1PA  = '70.9503 +/- 1.2176' / Azimuthal Fourier mode 1 phase angle           \n",
       "2_F4    = '0.0168 +/- 0.0003'  / Azimuthal Fourier mode 4 amplitude             \n",
       "2_F4PA  = '-5.4452 +/- 0.3411' / Azimuthal Fourier mode 4 phase angle           \n",
       "COMMENT ------------------------------------------------------------------------\n",
       "COMP_3  = 'sersic  '           / Component type                                 \n",
       "3_XC    = '{1000.9561}'        / X center [pixel]                               \n",
       "3_YC    = '{1000.7797}'        / Y center [pixel]                               \n",
       "3_MAG   = '15.4787 +/- 0.0036' / Integrated magnitude [mag]                     \n",
       "3_RE    = '95.7713 +/- 0.2972' / Effective radius Re [pixels]                   \n",
       "3_N     = '1.7384 +/- 0.0084'  / Sersic index                                   \n",
       "3_AR    = '0.4386 +/- 0.0005'  / Axis ratio (b/a)                               \n",
       "3_PA    = '35.6996 +/- 0.0261' / Position Angle (PA) [degrees: Up=0, Left=90]   \n",
       "3_F1    = '-0.0290 +/- 0.0003' / Azimuthal Fourier mode 1 amplitude             \n",
       "3_F1PA  = '-0.7137 +/- 1.0156' / Azimuthal Fourier mode 1 phase angle           \n",
       "3_F4    = '0.0441 +/- 0.0003'  / Azimuthal Fourier mode 4 amplitude             \n",
       "3_F4PA  = '-3.7068 +/- 0.1191' / Azimuthal Fourier mode 4 phase angle           \n",
       "COMMENT ------------------------------------------------------------------------\n",
       "COMP_4  = 'sky     '           / Component type                                 \n",
       "4_XC    = '[1000.0000]'        / X center [pixel]                               \n",
       "4_YC    = '[1000.0000]'        / Y center [pixel]                               \n",
       "4_SKY   = '-0.0129 +/- 0.0001' / Sky background [ADUs]                          \n",
       "4_DSDX  = '-3.629e-07 +/- 1.645e-07' / x sky gradient [ADUs]                    \n",
       "4_DSDY  = '1.375e-06 +/- 1.434e-07' / y sky gradient [ADUs]                     \n",
       "COMMENT ------------------------------------------------------------------------\n",
       "FLAGS   = 'H-4 A-3 '           / See `galfit -help' for details.                \n",
       "COMMENT ------------------------------------------------------------------------\n",
       "CHISQ   =     1117085.32937829 / Chi^2 of fit                                   \n",
       "NDOF    =               918131 / Degrees of freedom                             \n",
       "NFREE   =                   32 / Number of free parameters                      \n",
       "NFIX    =                    4 / Number of fixed parameters                     \n",
       "CHI2NU  =             1.216695 / Reduced Chi^2                                  \n",
       "LOGFILE = 'galfit.05'          / Output logfile                                 \n",
       "COMMENT =============================================                           \n",
       "COMMENT                                                                         "
      ]
     },
     "execution_count": 10,
     "metadata": {},
     "output_type": "execute_result"
    }
   ],
   "source": [
    "hduMod.header"
   ]
  },
  {
   "cell_type": "code",
   "execution_count": 11,
   "metadata": {
    "collapsed": true
   },
   "outputs": [],
   "source": [
    "loc = os.path.dirname(output)"
   ]
  },
  {
   "cell_type": "code",
   "execution_count": 12,
   "metadata": {
    "collapsed": false
   },
   "outputs": [],
   "source": [
    "log = os.path.join(loc, galOut.logfile)"
   ]
  },
  {
   "cell_type": "code",
   "execution_count": 13,
   "metadata": {
    "collapsed": false
   },
   "outputs": [
    {
     "data": {
      "text/plain": [
       "True"
      ]
     },
     "execution_count": 13,
     "metadata": {},
     "output_type": "execute_result"
    }
   ],
   "source": [
    "os.path.isfile(log)"
   ]
  },
  {
   "cell_type": "code",
   "execution_count": 14,
   "metadata": {
    "collapsed": false
   },
   "outputs": [],
   "source": [
    "f = open(log, 'r')"
   ]
  },
  {
   "cell_type": "code",
   "execution_count": 15,
   "metadata": {
    "collapsed": true
   },
   "outputs": [],
   "source": [
    "temp = f.readlines()"
   ]
  },
  {
   "cell_type": "code",
   "execution_count": 17,
   "metadata": {
    "collapsed": false
   },
   "outputs": [],
   "source": [
    "for i in range(0, len(temp)): \n",
    "    if 'D)' in temp[i]:\n",
    "        temp[i] = 'blahblah'\n"
   ]
  },
  {
   "cell_type": "code",
   "execution_count": 27,
   "metadata": {
    "collapsed": false
   },
   "outputs": [
    {
     "name": "stdout",
     "output_type": "stream",
     "text": [
      "true\n"
     ]
    }
   ],
   "source": [
    "if galOut.input_initfile in open(log).read():\n",
    "    print \"true\"    "
   ]
  },
  {
   "cell_type": "code",
   "execution_count": 28,
   "metadata": {
    "collapsed": true
   },
   "outputs": [],
   "source": [
    "import shutil "
   ]
  },
  {
   "cell_type": "code",
   "execution_count": 30,
   "metadata": {
    "collapsed": false
   },
   "outputs": [],
   "source": [
    "shutil.copyfile(log, os.path.join(loc, 'temp.dat'))"
   ]
  },
  {
   "cell_type": "code",
   "execution_count": 32,
   "metadata": {
    "collapsed": true
   },
   "outputs": [],
   "source": [
    "shutil.move(os.path.join(loc, 'temp.dat'), os.path.join(loc, 'temp.back'))"
   ]
  },
  {
   "cell_type": "code",
   "execution_count": 34,
   "metadata": {
    "collapsed": false
   },
   "outputs": [],
   "source": [
    "temp = 'galfit.06'"
   ]
  },
  {
   "cell_type": "code",
   "execution_count": 36,
   "metadata": {
    "collapsed": false
   },
   "outputs": [
    {
     "data": {
      "text/plain": [
       "True"
      ]
     },
     "execution_count": 36,
     "metadata": {},
     "output_type": "execute_result"
    }
   ],
   "source": [
    "os.path.dirname(temp) is ''"
   ]
  },
  {
   "cell_type": "code",
   "execution_count": 18,
   "metadata": {
    "collapsed": false
   },
   "outputs": [
    {
     "data": {
      "text/plain": [
       "['\\n',\n",
       " '#  Input menu file: hectoManga_6_HSC-I_3comp.in\\n',\n",
       " '\\n',\n",
       " '#  Chi^2/nu = 1.217,  Chi^2 = 1117085.375,  Ndof = 918131\\n',\n",
       " '\\n',\n",
       " '================================================================================\\n',\n",
       " '# IMAGE and GALFIT CONTROL PARAMETERS\\n',\n",
       " 'A) hectoManga_6_HSC-I_full_img.fits      # Input data image (FITS file)\\n',\n",
       " 'B) hectoManga_6_HSC-I_full_3comp.fits      # Output data image block\\n',\n",
       " 'C) hectoManga_6_HSC-I_full_sig.fits      # Sigma image name (made from data if blank or \"none\") \\n',\n",
       " 'blahblah',\n",
       " 'E) 1                   # PSF fine sampling factor relative to data \\n',\n",
       " 'F) hectoManga_6_HSC-I_full_mskfin.fits      # Bad pixel mask (FITS image or ASCII coord list)\\n',\n",
       " 'G) 3comp.cons          # File with parameter constraints (ASCII file) \\n',\n",
       " 'H) 400  1600 400  1600 # Image region to fit (xmin xmax ymin ymax)\\n',\n",
       " 'I) 800    800          # Size of the convolution box (x y)\\n',\n",
       " 'J) 27.000              # Magnitude photometric zeropoint \\n',\n",
       " 'K) 0.168  0.168        # Plate scale (dx dy)   [arcsec per pixel]\\n',\n",
       " 'O) regular             # Display type (regular, curses, both)\\n',\n",
       " 'P) 0                   # Choose: 0=optimize, 1=model, 2=imgblock, 3=subcomps\\n',\n",
       " '\\n',\n",
       " '# INITIAL FITTING PARAMETERS\\n',\n",
       " '#\\n',\n",
       " '#   For component type, the allowed functions are: \\n',\n",
       " '#       sersic, expdisk, edgedisk, devauc, king, nuker, psf, \\n',\n",
       " '#       gaussian, moffat, ferrer, and sky. \\n',\n",
       " '#  \\n',\n",
       " \"#   Hidden parameters will only appear when they're specified:\\n\",\n",
       " '#       Bn (n=integer, Bending Modes).\\n',\n",
       " '#       C0 (diskyness/boxyness), \\n',\n",
       " '#       Fn (n=integer, Azimuthal Fourier Modes).\\n',\n",
       " '#       R0-R10 (coordinate rotation, for creating spiral structures).\\n',\n",
       " '#       To, Ti, T0-T10 (truncation function).\\n',\n",
       " '# \\n',\n",
       " '# ------------------------------------------------------------------------------\\n',\n",
       " '#   par)    par value(s)    fit toggle(s)    # parameter description \\n',\n",
       " '# ------------------------------------------------------------------------------\\n',\n",
       " '\\n',\n",
       " '# Component number: 1\\n',\n",
       " ' 0) sersic                 #  Component type\\n',\n",
       " ' 1) 1000.9561 1000.7797 1 1  #  Position x, y\\n',\n",
       " ' 3) 18.5854     1          #  Integrated magnitude \\n',\n",
       " ' 4) 1.7737      1          #  R_e (effective radius)   [pix]\\n',\n",
       " ' 5) 1.2060      1          #  Sersic index n (de Vaucouleurs n=4) \\n',\n",
       " ' 6) 0.0000      0          #     ----- \\n',\n",
       " ' 7) 0.0000      0          #     ----- \\n',\n",
       " ' 8) 0.0000      0          #     ----- \\n',\n",
       " ' 9) 0.8160      1          #  Axis ratio (b/a)  \\n',\n",
       " '10) 46.3985     1          #  Position angle (PA) [deg: Up=0, Left=90]\\n',\n",
       " 'F1) 0.0441   28.6630  1 1  #  Azim. Fourier mode 1, amplitude, & phase angle\\n',\n",
       " 'F4) -0.0056  -5.6588  1 1  #  Azim. Fourier mode 4, amplitude, & phase angle\\n',\n",
       " ' Z) 0                      #  Skip this model in output image?  (yes=1, no=0)\\n',\n",
       " '\\n',\n",
       " '# Component number: 2\\n',\n",
       " ' 0) sersic                 #  Component type\\n',\n",
       " ' 1) 1000.9561 1000.7797 2 2  #  Position x, y\\n',\n",
       " ' 3) 16.3123     1          #  Integrated magnitude \\n',\n",
       " ' 4) 20.4074     1          #  R_e (effective radius)   [pix]\\n',\n",
       " ' 5) 1.2053      1          #  Sersic index n (de Vaucouleurs n=4) \\n',\n",
       " ' 6) 0.0000      0          #     ----- \\n',\n",
       " ' 7) 0.0000      0          #     ----- \\n',\n",
       " ' 8) 0.0000      0          #     ----- \\n',\n",
       " ' 9) 0.8191      1          #  Axis ratio (b/a)  \\n',\n",
       " '10) 43.5999     1          #  Position angle (PA) [deg: Up=0, Left=90]\\n',\n",
       " 'F1) 0.0204   70.9503  1 1  #  Azim. Fourier mode 1, amplitude, & phase angle\\n',\n",
       " 'F4) 0.0168   -5.4452  1 1  #  Azim. Fourier mode 4, amplitude, & phase angle\\n',\n",
       " ' Z) 0                      #  Skip this model in output image?  (yes=1, no=0)\\n',\n",
       " '\\n',\n",
       " '# Component number: 3\\n',\n",
       " ' 0) sersic                 #  Component type\\n',\n",
       " ' 1) 1000.9561 1000.7797 2 2  #  Position x, y\\n',\n",
       " ' 3) 15.4787     1          #  Integrated magnitude \\n',\n",
       " ' 4) 95.7713     1          #  R_e (effective radius)   [pix]\\n',\n",
       " ' 5) 1.7384      1          #  Sersic index n (de Vaucouleurs n=4) \\n',\n",
       " ' 6) 0.0000      0          #     ----- \\n',\n",
       " ' 7) 0.0000      0          #     ----- \\n',\n",
       " ' 8) 0.0000      0          #     ----- \\n',\n",
       " ' 9) 0.4386      1          #  Axis ratio (b/a)  \\n',\n",
       " '10) 35.6996     1          #  Position angle (PA) [deg: Up=0, Left=90]\\n',\n",
       " 'F1) -0.0290  -0.7137  1 1  #  Azim. Fourier mode 1, amplitude, & phase angle\\n',\n",
       " 'F4) 0.0441   -3.7068  1 1  #  Azim. Fourier mode 4, amplitude, & phase angle\\n',\n",
       " ' Z) 0                      #  Skip this model in output image?  (yes=1, no=0)\\n',\n",
       " '\\n',\n",
       " '# Component number: 4\\n',\n",
       " ' 0) sky                    #  Component type\\n',\n",
       " ' 1) -1.292e-02     1       #  Sky background at center of fitting region [ADUs]\\n',\n",
       " ' 2) -3.629e-07     1       #  dsky/dx (sky gradient in x)     [ADUs/pix]\\n',\n",
       " ' 3) 1.375e-06      1       #  dsky/dy (sky gradient in y)     [ADUs/pix]\\n',\n",
       " ' Z) 0                      #  Skip this model in output image?  (yes=1, no=0)\\n',\n",
       " '\\n',\n",
       " '================================================================================\\n',\n",
       " '\\n']"
      ]
     },
     "execution_count": 18,
     "metadata": {},
     "output_type": "execute_result"
    }
   ],
   "source": [
    "temp"
   ]
  },
  {
   "cell_type": "code",
   "execution_count": 19,
   "metadata": {
    "collapsed": true
   },
   "outputs": [],
   "source": [
    "subFile = '/Users/songhuang/Downloads/hsc_cutout/hectomap/hectomanga_6_ell/subcomps.fits'\n",
    "subComp = fits.open(subFile)"
   ]
  },
  {
   "cell_type": "code",
   "execution_count": 27,
   "metadata": {
    "collapsed": false
   },
   "outputs": [
    {
     "data": {
      "text/plain": [
       "[1, 2, 3]"
      ]
     },
     "execution_count": 27,
     "metadata": {},
     "output_type": "execute_result"
    }
   ],
   "source": [
    "range(1,3+1)"
   ]
  },
  {
   "cell_type": "code",
   "execution_count": 69,
   "metadata": {
    "collapsed": false
   },
   "outputs": [
    {
     "data": {
      "text/plain": [
       "True"
      ]
     },
     "execution_count": 69,
     "metadata": {},
     "output_type": "execute_result"
    }
   ],
   "source": [
    "os.path.dirname('temp.dat') == ''"
   ]
  },
  {
   "cell_type": "code",
   "execution_count": 33,
   "metadata": {
    "collapsed": false
   },
   "outputs": [
    {
     "data": {
      "text/plain": [
       "'1'"
      ]
     },
     "execution_count": 33,
     "metadata": {},
     "output_type": "execute_result"
    }
   ],
   "source": [
    "a = 1 \n",
    "str(a)"
   ]
  },
  {
   "cell_type": "code",
   "execution_count": 36,
   "metadata": {
    "collapsed": false
   },
   "outputs": [
    {
     "data": {
      "text/plain": [
       "SIMPLE  =                    T / file does conform to FITS standard             \n",
       "BITPIX  =                  -32 / number of bits per data pixel                  \n",
       "NAXIS   =                    2 / number of data axes                            \n",
       "NAXIS1  =                 1201 / length of data axis 1                          \n",
       "NAXIS2  =                 1201 / length of data axis 2                          \n",
       "EXTEND  =                    T / FITS dataset may contain extensions            \n",
       "COMMENT   FITS (Flexible Image Transport System) format is defined in 'Astronomy\n",
       "COMMENT   and Astrophysics', volume 376, page 359; bibcode: 2001A&A...376..359H \n",
       "OBJECT  = 'original image'     / Component type                                 "
      ]
     },
     "execution_count": 36,
     "metadata": {},
     "output_type": "execute_result"
    }
   ],
   "source": [
    "subComp[0].header"
   ]
  },
  {
   "cell_type": "code",
   "execution_count": 38,
   "metadata": {
    "collapsed": false
   },
   "outputs": [
    {
     "data": {
      "text/plain": [
       "'sersic'"
      ]
     },
     "execution_count": 38,
     "metadata": {},
     "output_type": "execute_result"
    }
   ],
   "source": [
    "galOut.component_1.component_type"
   ]
  },
  {
   "cell_type": "code",
   "execution_count": 42,
   "metadata": {
    "collapsed": false
   },
   "outputs": [],
   "source": [
    "temp = dir(galOut)"
   ]
  },
  {
   "cell_type": "code",
   "execution_count": 46,
   "metadata": {
    "collapsed": false
   },
   "outputs": [],
   "source": [
    "comp1 = getattr(galOut, 'component_1')"
   ]
  },
  {
   "cell_type": "code",
   "execution_count": 54,
   "metadata": {
    "collapsed": false
   },
   "outputs": [
    {
     "data": {
      "text/plain": [
       "True"
      ]
     },
     "execution_count": 54,
     "metadata": {},
     "output_type": "execute_result"
    }
   ],
   "source": [
    "comp1.component_type == 'sersic'"
   ]
  },
  {
   "cell_type": "code",
   "execution_count": 56,
   "metadata": {
    "collapsed": false
   },
   "outputs": [
    {
     "data": {
      "text/plain": [
       "400.0"
      ]
     },
     "execution_count": 56,
     "metadata": {},
     "output_type": "execute_result"
    }
   ],
   "source": [
    "np.float(galOut.box_x0)"
   ]
  },
  {
   "cell_type": "code",
   "execution_count": 57,
   "metadata": {
    "collapsed": true
   },
   "outputs": [],
   "source": [
    "import palettable "
   ]
  },
  {
   "cell_type": "code",
   "execution_count": 64,
   "metadata": {
    "collapsed": false
   },
   "outputs": [
    {
     "data": {
      "text/plain": [
       "[(0.7019607843137254, 0.8862745098039215, 0.803921568627451),\n",
       " (0.9921568627450981, 0.803921568627451, 0.6745098039215687),\n",
       " (0.796078431372549, 0.8352941176470589, 0.9098039215686274),\n",
       " (0.9568627450980393, 0.792156862745098, 0.8941176470588236),\n",
       " (0.9019607843137255, 0.9607843137254902, 0.788235294117647),\n",
       " (1.0, 0.9490196078431372, 0.6823529411764706),\n",
       " (0.9450980392156862, 0.8862745098039215, 0.8),\n",
       " (0.8, 0.8, 0.8)]"
      ]
     },
     "execution_count": 64,
     "metadata": {},
     "output_type": "execute_result"
    }
   ],
   "source": [
    "palettable.colorbrewer.qualitative.Pastel2_8.mpl_colors"
   ]
  },
  {
   "cell_type": "code",
   "execution_count": 66,
   "metadata": {
    "collapsed": false
   },
   "outputs": [
    {
     "data": {
      "text/plain": [
       "'hectoManga_6_HSC-I_full_mskfin.fits'"
      ]
     },
     "execution_count": 66,
     "metadata": {},
     "output_type": "execute_result"
    }
   ],
   "source": [
    "galOut.input_mask"
   ]
  },
  {
   "cell_type": "code",
   "execution_count": 63,
   "metadata": {
    "collapsed": false
   },
   "outputs": [
    {
     "data": {
      "text/plain": [
       "2.3025850929940459"
      ]
     },
     "execution_count": 63,
     "metadata": {},
     "output_type": "execute_result"
    }
   ],
   "source": []
  },
  {
   "cell_type": "code",
   "execution_count": null,
   "metadata": {
    "collapsed": true
   },
   "outputs": [],
   "source": []
  }
 ],
 "metadata": {
  "kernelspec": {
   "display_name": "Python 2",
   "language": "python",
   "name": "python2"
  },
  "language_info": {
   "codemirror_mode": {
    "name": "ipython",
    "version": 2
   },
   "file_extension": ".py",
   "mimetype": "text/x-python",
   "name": "python",
   "nbconvert_exporter": "python",
   "pygments_lexer": "ipython2",
   "version": "2.7.10"
  }
 },
 "nbformat": 4,
 "nbformat_minor": 0
}
