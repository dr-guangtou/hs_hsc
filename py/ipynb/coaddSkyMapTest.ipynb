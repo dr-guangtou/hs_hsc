{
 "cells": [
  {
   "cell_type": "code",
   "execution_count": 1,
   "metadata": {
    "collapsed": false
   },
   "outputs": [
    {
     "name": "stdout",
     "output_type": "stream",
     "text": [
      "Populating the interactive namespace from numpy and matplotlib\n"
     ]
    }
   ],
   "source": [
    "%pylab inline\n",
    "%load_ext autoreload\n",
    "%autoreload 2\n",
    "\n",
    "import os\n",
    "import copy\n",
    "import argparse\n",
    "import numpy as np\n",
    "import lsst.daf.persistence   as dafPersist\n",
    "import lsst.afw.coord         as afwCoord\n",
    "import lsst.afw.image         as afwImage\n",
    "import lsst.afw.geom          as afwGeom\n",
    "import lsst.afw.table         as afwTable\n",
    "\n",
    "# Matplotlib default settings\n",
    "import matplotlib as mpl \n",
    "import matplotlib.pyplot as plt\n",
    "mpl.rcParams['figure.figsize'] = 12, 10\n",
    "mpl.rcParams['xtick.major.size'] = 8.0\n",
    "mpl.rcParams['xtick.major.width'] = 1.5\n",
    "mpl.rcParams['xtick.minor.size'] = 4.0\n",
    "mpl.rcParams['xtick.minor.width'] = 1.5\n",
    "mpl.rcParams['ytick.major.size'] = 8.0\n",
    "mpl.rcParams['ytick.major.width'] = 1.5\n",
    "mpl.rcParams['ytick.minor.size'] = 4.0\n",
    "mpl.rcParams['ytick.minor.width'] = 1.5\n",
    "mpl.rc('axes', linewidth=2)\n",
    "\n",
    "import cubehelix  # Cubehelix color scheme from https://github.com/jradavenport/cubehelix\n",
    "ccmap = cubehelix.cmap(start=0.5, rot=-0.8, minSat=1.2, maxSat=1.2, \n",
    "                               minLight=0., maxLight=1., gamma=1.0)"
   ]
  },
  {
   "cell_type": "code",
   "execution_count": 2,
   "metadata": {
    "collapsed": true
   },
   "outputs": [],
   "source": [
    "# Shapely related imports\n",
    "from shapely.geometry import Polygon\n",
    "from shapely.ops      import cascaded_union\n",
    "from shapely          import wkb\n",
    "from descartes        import PolygonPatch\n",
    "\n",
    "import coaddPatchShape  as coaddPS\n",
    "#getPolyUnion, polySaveWkb, polyReadWkb \n",
    "import coaddPatchNoData as coaddND\n",
    "#polySaveReg"
   ]
  },
  {
   "cell_type": "code",
   "execution_count": 3,
   "metadata": {
    "collapsed": true
   },
   "outputs": [],
   "source": [
    "def wcsGetRaDecPair(wcsInfo, xpos, ypos): \n",
    "    \n",
    "    raRad, decRad = wcsInfo.pixelToSky(xpos, ypos)\n",
    "    return raRad.asDegrees(), decRad.asDegrees()"
   ]
  },
  {
   "cell_type": "code",
   "execution_count": 4,
   "metadata": {
    "collapsed": true
   },
   "outputs": [],
   "source": [
    "def getTractXYDim(tractInfo): \n",
    "    \n",
    "    tractExtent = tractInfo.getBBox().getDimensions()\n",
    "    return tractExtent.getX(), tractExtent.getY()"
   ]
  },
  {
   "cell_type": "code",
   "execution_count": 5,
   "metadata": {
    "collapsed": false
   },
   "outputs": [],
   "source": [
    "def fourCornerRaDec(tractWcs, xDim, yDim): \n",
    "    \n",
    "    xCorners = [1, 1, xDim, xDim]\n",
    "    yCorners = [1, yDim, yDim, 1]\n",
    "    \n",
    "    corners = []\n",
    "    for x, y in zip(xCorners, yCorners): \n",
    "        corners.append(wcsGetRaDecPair(tractWcs, x, y))\n",
    "    \n",
    "    return corners"
   ]
  },
  {
   "cell_type": "markdown",
   "metadata": {},
   "source": [
    "# Understand the SkyMap of coadded images better "
   ]
  },
  {
   "cell_type": "markdown",
   "metadata": {},
   "source": [
    "## Return the name of all folders under certain directory"
   ]
  },
  {
   "cell_type": "code",
   "execution_count": 6,
   "metadata": {
    "collapsed": false
   },
   "outputs": [],
   "source": [
    "def getTractList(rootDir, filter, imgType='deepCoadd', toInt=True): \n",
    "    \n",
    "    if rootDir[-1] is not '/': \n",
    "        rootDir += '/'\n",
    "    tractDir = rootDir + imgType + '/' + filter + '/'\n",
    "    \n",
    "    if not os.path.exists(tractDir): \n",
    "        raise Exception(\"Can not find the directory: %s\" % tractDir)\n",
    "    else:\n",
    "        tractStrs = [d for d in os.listdir(tractDir) if \n",
    "                     os.path.isdir(os.path.join(tractDir, d))]\n",
    "        if toInt: \n",
    "            tractList = map(lambda x: int(x), tractStrs)\n",
    "        else: \n",
    "            tractList = tractStrs\n",
    "    \n",
    "    return tractList"
   ]
  },
  {
   "cell_type": "code",
   "execution_count": 7,
   "metadata": {
    "collapsed": false
   },
   "outputs": [],
   "source": [
    "# Plot a polygon region\n",
    "def plotListPoly(polyList, outPNG='polyList.png', outer=None, \n",
    "                 color=None, minX=None, minY=None, maxX=None,\n",
    "                 maxY=None, xSize=20, ySize=16, dpi=120):\n",
    "\n",
    "    \"\"\" \n",
    "    Right now, have to make sure that every Polygon in the list is \n",
    "    simple and valid TODO\n",
    "    \"\"\"\n",
    "    \n",
    "    \"\"\" Set up the color \"\"\"\n",
    "    BLUE = '#6699cc'\n",
    "    GRAY = '#999999'\n",
    "    ec = GRAY \n",
    "    if color is None: \n",
    "        fc = BLUE\n",
    "    else:\n",
    "        fc = color \n",
    "\n",
    "    fig = plt.figure(figsize=(xSize, ySize), dpi=dpi)\n",
    "    ax = fig.add_subplot(111)\n",
    "    \n",
    "    if len(polyList) == 1: \n",
    "        partShow = PolygonPatch(polyList[0], fc='r', ec=GRAY,\n",
    "                                alpha=0.8, zorder=1)\n",
    "        ax.add_patch(partShow)\n",
    "    else: \n",
    "        for poly in polyList:\n",
    "            partShow = PolygonPatch(poly, fc=numpy.random.rand(3,1), \n",
    "                                    ec=GRAY, alpha=0.8, zorder=1)\n",
    "            ax.add_patch(partShow)\n",
    "        \n",
    "    \"\"\" Draw the outline of the region \"\"\"\n",
    "    if outer is not None: \n",
    "        if outer.type is \"Polygon\": \n",
    "            bound = outer.boundary \n",
    "            if bound.type is \"LineString\": \n",
    "                x, y = bound.xy \n",
    "                ax.plot(x, y, c='k', lw=2.5)\n",
    "        elif outer.type is \"MultiPolygon\":\n",
    "            for oo in outer: \n",
    "                bound = oo.boundary\n",
    "                if bound.type is \"LineString\":\n",
    "                    x, y = bound.xy\n",
    "                    ax.plot(x, y, c='k', lw=3.0)\n",
    "                 \n",
    "    if (minX is None) or (minY is None) or (maxX is None) or (maxY is None):\n",
    "        ax.margins(0.02, 0.02, tight=True)\n",
    "    else: \n",
    "        raRange  = [(minX-0.1), (maxX+0.1)]\n",
    "        decRange = [(minY-0.1), (maxY+0.1)]\n",
    "        ax.set_xlim(*raRange)\n",
    "        ax.set_ylim(*decRange)\n",
    "\n",
    "    ax.set_xlabel(r'RA (deg)',  fontsize=25)\n",
    "    ax.set_ylabel(r'DEC (deg)', fontsize=25)\n",
    "\n",
    "    fontsize = 16\n",
    "    for tick in ax.xaxis.get_major_ticks():\n",
    "        tick.label1.set_fontsize(fontsize)\n",
    "    for tick in ax.yaxis.get_major_ticks():\n",
    "        tick.label1.set_fontsize(fontsize)\n",
    "\n",
    "    ax.minorticks_on()\n",
    "    plt.tick_params(which='major', width=2.0, length=8.0, labelsize=20)\n",
    "    plt.tick_params(which='minor', width=1.8, length=6.0)\n",
    "\n",
    "    for axis in ['top','bottom','left','right']:\n",
    "        ax.spines[axis].set_linewidth(2.5)\n",
    "\n",
    "    ax.grid(alpha=0.6, color='k', linewidth=1.5)\n",
    "    \n",
    "    fig.subplots_adjust(bottom=0.1, left=0.1,\n",
    "                        top=0.98, right=0.98)\n",
    "\n",
    "    fig.savefig(outPNG, dpi=100)\n",
    "    plt.close(fig)"
   ]
  },
  {
   "cell_type": "code",
   "execution_count": 8,
   "metadata": {
    "collapsed": false
   },
   "outputs": [],
   "source": [
    "def coaddTractGetCorners(skyMap, tractId): \n",
    "    \n",
    "    \"\"\" Try to get the right tract information \"\"\"\n",
    "    numTract = len(skyMap)\n",
    "    if tractId > numTract: \n",
    "        raise Exception(\"The tractId is not correct: %d\" % tractId)\n",
    "    \n",
    "    tractInfo = skyMap[tractId]\n",
    "    if tractInfo.getId() != tractId: \n",
    "        raise Exception(\"Something wrong with the SkyMap: %d - %d\" % (tractId, \n",
    "                                                                      tractInfo.getId()))\n",
    "    else: \n",
    "        corners = tractInfo.getVertexList()\n",
    "        cornerRaDec = []\n",
    "        for corner in corners: \n",
    "            cornerRaDec.append((corner[0].asDegrees(), \n",
    "                                corner[1].asDegrees()))\n",
    "    \n",
    "    \"\"\" Form a Polygon using the cornerRaDec \"\"\"\n",
    "    cornerPoly = Polygon(cornerRaDec)\n",
    "    if not cornerPoly.boundary.is_simple: \n",
    "        raise Exception(\"Something is wrong with the Polygon: %d\" % tractId)\n",
    "    \n",
    "    \"\"\" Return this Polygon \"\"\"\n",
    "    return cornerPoly\n",
    "    \n",
    "    \n",
    "def coaddTractShape(rootDir, filter, verbose=True, prefix='hsc_tract', \n",
    "                    savePNG=True, xSize=18, ySize=16): \n",
    "    \n",
    "    \"\"\" Prefix of the output file \"\"\"\n",
    "    preFile1 = prefix + '_' + filter + '_tract'\n",
    "    \n",
    "    \"\"\" Get the skymap \"\"\"\n",
    "    butler = dafPersist.Butler(rootDir)\n",
    "    skyMap = butler.get(\"deepCoadd_skyMap\", immediate=True)\n",
    "    \n",
    "    \"\"\" Get the list of tract IDs \"\"\"\n",
    "    tractList = getTractList(rootDir, filter, imgType='deepCoadd', \n",
    "                             toInt=True)\n",
    "    nTracts = len(tractList)\n",
    "    if verbose: \n",
    "        print \"### Will deal with %d tracts in total\" % nTracts\n",
    "        \n",
    "    polyList = []\n",
    "    for tractId in tractList: \n",
    "        if verbose: \n",
    "            print \"### Deal with tract: %d\" % tractId \n",
    "            \n",
    "        \"\"\" Get the Polygon for the tract \"\"\"\n",
    "        tractPoly = coaddTractGetCorners(skyMap, tractId)\n",
    "        \n",
    "        preFile2 = preFile1  + '_' + str(tractId)\n",
    "        \"\"\" Save a .WKB file \"\"\"\n",
    "        tractWkb = preFile2 + '.wkb'\n",
    "        coaddPS.polySaveWkb(tractPoly, tractWkb)\n",
    "        \"\"\" Save a .REG file \"\"\"\n",
    "        tractReg = preFile2 + '.reg'\n",
    "        coaddND.polySaveReg(tractPoly, tractReg, color='green')        \n",
    "        \"\"\" Append to the list \"\"\"\n",
    "        polyList.append(tractPoly)\n",
    "        \n",
    "    if nTracts > 1:\n",
    "        \"\"\" Get the cascaded_union of all the Tracts \"\"\"\n",
    "        combPoly = cascaded_union(polyList)\n",
    "        \"\"\" Save a combined .WKB file \"\"\"\n",
    "        coaddPS.polySaveWkb(combPoly, preFile1 + '_all.wkb')\n",
    "        \"\"\" Save a combined .REG file \"\"\"\n",
    "        coaddND.polySaveReg(combPoly, preFile1 + '_all.reg', color='blue')\n",
    "        \"\"\" Get the bounds of the combined region \"\"\"\n",
    "        minX, minY, maxX, maxY = combPoly.bounds\n",
    "        \n",
    "        \"\"\" It's possible that the combined Poly is Multi-part \"\"\"\n",
    "        if combPoly.type is \"MultiPolygon\": \n",
    "            combParts = combPoly.geoms[:]\n",
    "            nParts = len(combParts)\n",
    "            for ii in range(nParts): \n",
    "                combPart = combParts[ii]\n",
    "                min1, min2, max1, max2 = combPart.bounds\n",
    "                \"\"\" Save .wkb and .reg file for each part \"\"\"\n",
    "                coaddPS.polySaveWkb(combPart, preFile1 + '_part_' + str(ii+1) + '.wkb')\n",
    "                coaddND.polySaveReg(combPart, preFile1 + '_part_' + str(ii+1) + '.reg', \n",
    "                                    color='blue')\n",
    "                \"\"\" Make a plot \"\"\"\n",
    "                plotListPoly(polyList, outer=combPart, \n",
    "                             outPNG=preFile1 + '_part_' + str(ii+1) + '.png', \n",
    "                             minX=min1, minY=min2, maxX=max1, maxY=max2, \n",
    "                             xSize=16, ySize=14)\n",
    "    else: \n",
    "        combPoly = polyList[0]\n",
    "        minX, minY, maxX, maxY = combPoly.bounds\n",
    "        coaddPS.polySaveWkb(combPoly, preFile1 + '_all.wkb')\n",
    "        coaddND.polySaveReg(combPoly, preFile1 + '_all.reg', color='blue')\n",
    "        polyList = [combPoly]\n",
    "    \n",
    "    \"\"\" Save a PNG file \"\"\"\n",
    "    if savePNG: \n",
    "        pngFile = preFile1 + '_all.png'\n",
    "        plotListPoly(polyList, outPNG=pngFile, outer=combPoly, \n",
    "                     minX=minX, minY=minY, maxX=maxX, maxY=maxY, \n",
    "                     xSize=xSize, ySize=ySize) \n",
    "        \n",
    "    return combPoly"
   ]
  },
  {
   "cell_type": "code",
   "execution_count": 9,
   "metadata": {
    "collapsed": false
   },
   "outputs": [],
   "source": [
    "filters  = ['HSC-G', 'HSC-R', 'HSC-I', 'HSC-Z', 'HSC-Y']\n",
    "rootDir = '/lustre/Subaru/SSP/rerun/yasuda/SSP3.4.1_20141224/'\n",
    "prefix  = 'ssp341_wide'\n",
    "\n",
    "#for filter in filters: \n",
    "#    coaddTractShape(rootDir, filter, verbose=False, prefix=prefix, \n",
    "#                    savePNG=True, xSize=40, ySize=12)\n",
    "    \n",
    "#rootDir = '/lustre/Subaru/SSP/rerun/yasuda/SSP3.6.1_20150325/'\n",
    "#prefix  = 'ssp361_widecos'\n",
    "\n",
    "#for filter in filters: \n",
    "#    coaddTractShape(rootDir, filter, verbose=False, prefix=prefix, \n",
    "#                    savePNG=True, xSize=30, ySize=14)\n",
    "    \n",
    "#rootDir = '/lustre/Subaru/SSP/rerun/yasuda/SSP3.4.1_cosmos_setWeight/'\n",
    "#prefix  = 'ssp341_cosmos'\n",
    "\n",
    "#for filter in filters: \n",
    "#    coaddTractShape(rootDir, filter, verbose=False, prefix=prefix, \n",
    "#                    savePNG=True, xSize=12, ySize=12)"
   ]
  },
  {
   "cell_type": "markdown",
   "metadata": {},
   "source": [
    "## Get the Tracts Lists"
   ]
  },
  {
   "cell_type": "code",
   "execution_count": 12,
   "metadata": {
    "collapsed": false
   },
   "outputs": [
    {
     "name": "stdout",
     "output_type": "stream",
     "text": [
      "### Prepare ssp341_wide_HSC-G_tract.lis\n",
      "### Done !\n",
      "### Prepare ssp341_wide_HSC-R_tract.lis\n",
      "### Done !\n",
      "### Prepare ssp341_wide_HSC-I_tract.lis\n",
      "### Done !\n",
      "### Prepare ssp341_wide_HSC-Z_tract.lis\n",
      "### Done !\n",
      "### Prepare ssp341_wide_HSC-Y_tract.lis\n",
      "### Done !\n",
      "### Prepare ssp361_widecos_HSC-G_tract.lis\n",
      "### Done !\n",
      "### Prepare ssp361_widecos_HSC-R_tract.lis\n",
      "### Done !\n",
      "### Prepare ssp361_widecos_HSC-I_tract.lis\n",
      "### Done !\n",
      "### Prepare ssp361_widecos_HSC-Z_tract.lis\n",
      "### Done !\n",
      "### Prepare ssp361_widecos_HSC-Y_tract.lis\n",
      "### Done !\n",
      "### Prepare ssp341_cosmos_HSC-G_tract.lis\n",
      "### Done !\n",
      "### Prepare ssp341_cosmos_HSC-R_tract.lis\n",
      "### Done !\n",
      "### Prepare ssp341_cosmos_HSC-I_tract.lis\n",
      "### Done !\n",
      "### Prepare ssp341_cosmos_HSC-Z_tract.lis\n",
      "### Done !\n",
      "### Prepare ssp341_cosmos_HSC-Y_tract.lis\n",
      "### Done !\n"
     ]
    }
   ],
   "source": [
    "root1 = '/lustre/Subaru/SSP/rerun/yasuda/SSP3.4.1_20141224/'\n",
    "root2 = '/lustre/Subaru/SSP/rerun/yasuda/SSP3.6.1_20150325/' \n",
    "root3 = '/lustre/Subaru/SSP/rerun/yasuda/SSP3.4.1_cosmos_setWeight/'\n",
    "rootList = [root1, root2, root3]\n",
    "prefixList = ['ssp341_wide', 'ssp361_widecos', 'ssp341_cosmos']\n",
    "\n",
    "filters  = ['HSC-G', 'HSC-R', 'HSC-I', 'HSC-Z', 'HSC-Y']\n",
    "\n",
    "for root, prefix in zip(rootList, prefixList): \n",
    "    for filter in filters: \n",
    "        preFile = prefix + '_' + filter + '_tract.lis'\n",
    "        print \"### Prepare %s\" % preFile \n",
    "        tractFile = open(preFile, 'w')\n",
    "        \n",
    "        tractStrs = getTractList(root, filter, imgType='deepCoadd', toInt=False)\n",
    "        \n",
    "        for ss in tractStrs: \n",
    "            tractFile.write(ss + '\\n')\n",
    "        \n",
    "        tractFile.close()\n",
    "        print \"### Done !\""
   ]
  },
  {
   "cell_type": "markdown",
   "metadata": {},
   "source": [
    "## Get information for the Patch"
   ]
  },
  {
   "cell_type": "code",
   "execution_count": 70,
   "metadata": {
    "collapsed": true
   },
   "outputs": [],
   "source": [
    "\"\"\" Get the skymap \"\"\"\n",
    "butler = dafPersist.Butler(rootDir)\n",
    "skyMap = butler.get(\"deepCoadd_skyMap\", immediate=True)"
   ]
  },
  {
   "cell_type": "code",
   "execution_count": 83,
   "metadata": {
    "collapsed": true
   },
   "outputs": [],
   "source": [
    "map = skyMap[9009]"
   ]
  },
  {
   "cell_type": "code",
   "execution_count": 75,
   "metadata": {
    "collapsed": false
   },
   "outputs": [],
   "source": [
    "patchInfo = map.getPatchInfo((2,2))"
   ]
  },
  {
   "cell_type": "code",
   "execution_count": 78,
   "metadata": {
    "collapsed": false
   },
   "outputs": [
    {
     "data": {
      "text/plain": [
       "Box2I(Point2I(8000, 8000), Extent2I(4000, 4000))"
      ]
     },
     "execution_count": 78,
     "metadata": {},
     "output_type": "execute_result"
    }
   ],
   "source": [
    "patchInfo.getInnerBBox()"
   ]
  },
  {
   "cell_type": "code",
   "execution_count": 79,
   "metadata": {
    "collapsed": false
   },
   "outputs": [
    {
     "data": {
      "text/plain": [
       "Extent2I(4000, 4000)"
      ]
     },
     "execution_count": 79,
     "metadata": {},
     "output_type": "execute_result"
    }
   ],
   "source": [
    "map.getPatchInnerDimensions()"
   ]
  },
  {
   "cell_type": "code",
   "execution_count": 81,
   "metadata": {
    "collapsed": false
   },
   "outputs": [
    {
     "data": {
      "text/plain": [
       "Box2I(Point2I(7900, 7900), Extent2I(4200, 4200))"
      ]
     },
     "execution_count": 81,
     "metadata": {},
     "output_type": "execute_result"
    }
   ],
   "source": [
    "patchInfo.getOuterBBox()"
   ]
  },
  {
   "cell_type": "code",
   "execution_count": 82,
   "metadata": {
    "collapsed": false
   },
   "outputs": [
    {
     "data": {
      "text/plain": [
       "(2, 2)"
      ]
     },
     "execution_count": 82,
     "metadata": {},
     "output_type": "execute_result"
    }
   ],
   "source": [
    "patchInfo.getIndex()"
   ]
  }
 ],
 "metadata": {
  "kernelspec": {
   "display_name": "Python 2",
   "language": "python",
   "name": "python2"
  },
  "language_info": {
   "codemirror_mode": {
    "name": "ipython",
    "version": 2
   },
   "file_extension": ".py",
   "mimetype": "text/x-python",
   "name": "python",
   "nbconvert_exporter": "python",
   "pygments_lexer": "ipython2",
   "version": "2.7.6"
  }
 },
 "nbformat": 4,
 "nbformat_minor": 0
}
