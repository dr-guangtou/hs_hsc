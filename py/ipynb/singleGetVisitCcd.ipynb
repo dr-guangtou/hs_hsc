{
 "cells": [
  {
   "cell_type": "code",
   "execution_count": 6,
   "metadata": {
    "collapsed": true
   },
   "outputs": [],
   "source": [
    "import sys, os, re\n",
    "import argparse\n",
    "import numpy  as np\n",
    "from collections import defaultdict, Iterable\n",
    "\n",
    "import lsst.daf.persistence as dafPer\n",
    "import lsst.afw.coord       as afwCoord\n",
    "import lsst.afw.image       as afwImage\n",
    "import lsst.afw.table       as afwTable\n",
    "import lsst.afw.coord       as afwCoord\n",
    "import lsst.afw.geom        as afwGeom\n",
    "import lsst.pex.exceptions"
   ]
  },
  {
   "cell_type": "code",
   "execution_count": 7,
   "metadata": {
    "collapsed": true
   },
   "outputs": [],
   "source": [
    "def getVisits(tpDict, butler, filter='HSC-I'):\n",
    "    \"\"\"\n",
    "    get visits that cover the tract/patch list\n",
    "\n",
    "    From Claire Lackner's getTractPatches.py in gxystack\n",
    "    \"\"\"\n",
    "    visitDict = defaultdict(set)\n",
    "\n",
    "    for tract in tpDict:\n",
    "        for patch in tpDict[tract]:\n",
    "            dataId =  {'tract':tract,\n",
    "                       'patch':\"{0!s},{1!s}\".format(*patch),\n",
    "                       'filter':filter}\n",
    "            coadd = butler.get(\"deepCoadd\", dataId)\n",
    "            try:\n",
    "                ccds = coadd.getInfo().getCoaddInputs().ccds\n",
    "            except lsst.pex.exceptions.LsstCppException:\n",
    "                continue\n",
    "            print dataId\n",
    "            for ccd in ccds:\n",
    "                visitDict[ccd.get('visit')].add(ccd.get('ccd'))\n",
    "    return visitDict"
   ]
  },
  {
   "cell_type": "code",
   "execution_count": 14,
   "metadata": {
    "collapsed": true
   },
   "outputs": [],
   "source": [
    "def raDec2VisitCcd(ra, dec, root, filter='HSC-I', butler=None):\n",
    "    \"\"\"TODO: Docstring for raDec2VisitCcd.\n",
    "\n",
    "    Find all the (visit, ccd) of HSC single images that cover given (RA, DEC)\n",
    "\n",
    "    Based on Claire Lackner's getTractPatches.py in gxystack\n",
    "\n",
    "    \"\"\"\n",
    "\n",
    "    # Get the butler if not provided\n",
    "    if butler is None:\n",
    "        butler = dafPer.Butler(root)\n",
    "    skyMap = butler.get(\"deepCoadd_skyMap\", immediate=True)\n",
    "\n",
    "\n",
    "    # Fake a very simple source table\n",
    "    schema = afwTable.SourceTable.makeMinimalSchema()\n",
    "    table  = afwTable.SourceTable.make(schema)\n",
    "    scat   = afwTable.SourceCatalog(table)\n",
    "\n",
    "    # See if the input is number or array\n",
    "    if isinstance(ra, (int, float)) and isinstance(dec, (int, float)):\n",
    "        s = scat.addNew()\n",
    "        s.setId(1)\n",
    "        s.setRa(float(ra)*afwGeom.degrees)\n",
    "        s.setDec(float(dec)*afwGeom.degrees)\n",
    "    elif isinstance(ra, Iterable) and isinstance(dec, Iterable) and (len(ra) == len(dec)):\n",
    "        raArr  = np.asarray(ra)\n",
    "        decArr = np.asarray(dec)\n",
    "        for i, (rr, dd) in enumerate(zip(raArr, decArr)):\n",
    "            s = scat.addNew()\n",
    "            s.setId(int(i))\n",
    "            s.setRa(float(rr)*afwGeom.degrees)\n",
    "            s.setDec(float(dd)*afwGeom.degrees)\n",
    "\n",
    "    # Get the list of tract and patch\n",
    "    tpList = [skyMap.findTractPatchList([scat[i].get(\"coord\"),])\n",
    "              for i in range(len(scat))]\n",
    "    tpDict = defaultdict(set)\n",
    "\n",
    "    #\n",
    "    for tp in tpList:\n",
    "        for tract in tp:\n",
    "            for patch in tract[1]:\n",
    "                tpDict[tract[0].getId()].add(patch.getIndex())\n",
    "    print \"number of patches \", sum([len(td) for td in tpDict.values()])\n",
    "\n",
    "    visitDict = getVisits(tpDict[0], butler, filter=filter)\n",
    "\n",
    "    return visitDict"
   ]
  },
  {
   "cell_type": "code",
   "execution_count": 48,
   "metadata": {
    "collapsed": true
   },
   "outputs": [],
   "source": [
    "rootDir = '/lustre/Subaru/SSP/rerun/yasuda/SSP3.6.1_20150325'\n",
    "ra  = 150.58048\n",
    "dec = 2.29262\n",
    "filter = 'HSC-I'"
   ]
  },
  {
   "cell_type": "code",
   "execution_count": 16,
   "metadata": {
    "collapsed": false
   },
   "outputs": [
    {
     "name": "stdout",
     "output_type": "stream",
     "text": [
      "number of patches  1\n"
     ]
    }
   ],
   "source": [
    "visit = raDec2VisitCcd(ra, dec, rootDir)"
   ]
  },
  {
   "cell_type": "code",
   "execution_count": 20,
   "metadata": {
    "collapsed": false
   },
   "outputs": [
    {
     "name": "stdout",
     "output_type": "stream",
     "text": [
      "defaultdict(<type 'set'>, {})\n"
     ]
    }
   ],
   "source": [
    "print visit"
   ]
  },
  {
   "cell_type": "markdown",
   "metadata": {},
   "source": [
    "# Break Down"
   ]
  },
  {
   "cell_type": "code",
   "execution_count": 23,
   "metadata": {
    "collapsed": false
   },
   "outputs": [],
   "source": [
    "butler = dafPer.Butler(rootDir)\n",
    "skyMap = butler.get(\"deepCoadd_skyMap\", immediate=True)"
   ]
  },
  {
   "cell_type": "code",
   "execution_count": 24,
   "metadata": {
    "collapsed": true
   },
   "outputs": [],
   "source": [
    "# Fake a very simple source table\n",
    "schema = afwTable.SourceTable.makeMinimalSchema()\n",
    "table  = afwTable.SourceTable.make(schema)\n",
    "scat   = afwTable.SourceCatalog(table)"
   ]
  },
  {
   "cell_type": "code",
   "execution_count": 25,
   "metadata": {
    "collapsed": true
   },
   "outputs": [],
   "source": [
    "s = scat.addNew()\n",
    "s.setId(1)\n",
    "s.setRa(float(ra)*afwGeom.degrees)\n",
    "s.setDec(float(dec)*afwGeom.degrees)"
   ]
  },
  {
   "cell_type": "code",
   "execution_count": 28,
   "metadata": {
    "collapsed": false
   },
   "outputs": [],
   "source": [
    "# Get the list of tract and patch\n",
    "tpList = [skyMap.findTractPatchList([scat[i].get(\"coord\"),])\n",
    "              for i in range(len(scat))]\n",
    "tpDict = defaultdict(set)"
   ]
  },
  {
   "cell_type": "code",
   "execution_count": 32,
   "metadata": {
    "collapsed": false
   },
   "outputs": [],
   "source": [
    "raDec = scat[0].get(\"coord\")"
   ]
  },
  {
   "cell_type": "code",
   "execution_count": 38,
   "metadata": {
    "collapsed": false
   },
   "outputs": [],
   "source": [
    "tpList = [skyMap.findTractPatchList([raDec, ])]\n",
    "tpDict = defaultdict(set)"
   ]
  },
  {
   "cell_type": "code",
   "execution_count": 44,
   "metadata": {
    "collapsed": false
   },
   "outputs": [
    {
     "name": "stdout",
     "output_type": "stream",
     "text": [
      "number of patches  1\n"
     ]
    }
   ],
   "source": [
    "for tp in tpList:\n",
    "    for tract in tp:\n",
    "        for patch in tract[1]:\n",
    "            tpDict[tract[0].getId()].add(patch.getIndex())\n",
    "print \"number of patches \", sum([len(td) for td in tpDict.values()])"
   ]
  },
  {
   "cell_type": "code",
   "execution_count": 58,
   "metadata": {
    "collapsed": true
   },
   "outputs": [],
   "source": [
    "a = tpList[0]"
   ]
  },
  {
   "cell_type": "code",
   "execution_count": 60,
   "metadata": {
    "collapsed": false
   },
   "outputs": [],
   "source": [
    "t = a[0]"
   ]
  },
  {
   "cell_type": "code",
   "execution_count": 63,
   "metadata": {
    "collapsed": false
   },
   "outputs": [],
   "source": [
    "p = t[1]"
   ]
  },
  {
   "cell_type": "code",
   "execution_count": 70,
   "metadata": {
    "collapsed": false
   },
   "outputs": [
    {
     "data": {
      "text/plain": [
       "(TractInfo(id=9813, ctrCoord=(-0.86752, 0.49587, 0.038936)),\n",
       " (PatchInfo(index=(2, 4), innerBBox=Box2I((8000, 16000), (11999, 19999)), outerBBox=Box2I((7900, 15900), (12099, 20099))),))"
      ]
     },
     "execution_count": 70,
     "metadata": {},
     "output_type": "execute_result"
    }
   ],
   "source": [
    "t"
   ]
  },
  {
   "cell_type": "code",
   "execution_count": 45,
   "metadata": {
    "collapsed": false
   },
   "outputs": [
    {
     "name": "stdout",
     "output_type": "stream",
     "text": [
      "[(9813, set([(2, 4)]))]\n"
     ]
    }
   ],
   "source": [
    "print tpDict.items()"
   ]
  },
  {
   "cell_type": "code",
   "execution_count": 49,
   "metadata": {
    "collapsed": false
   },
   "outputs": [
    {
     "name": "stdout",
     "output_type": "stream",
     "text": [
      "{'filter': 'HSC-I', 'patch': '2,4', 'tract': 9813}\n"
     ]
    }
   ],
   "source": [
    "visitDict = defaultdict(set)\n",
    "\n",
    "for tract in tpDict:\n",
    "    for patch in tpDict[tract]:\n",
    "        dataId =  {'tract':tract,\n",
    "                   'patch':\"{0!s},{1!s}\".format(*patch),\n",
    "                   'filter':filter}\n",
    "        coadd = butler.get(\"deepCoadd\", dataId)\n",
    "        try:\n",
    "            ccds = coadd.getInfo().getCoaddInputs().ccds\n",
    "        except lsst.pex.exceptions.LsstCppException:\n",
    "            continue\n",
    "        print dataId\n",
    "        for ccd in ccds:\n",
    "            visitDict[ccd.get('visit')].add(ccd.get('ccd'))"
   ]
  },
  {
   "cell_type": "code",
   "execution_count": 57,
   "metadata": {
    "collapsed": false
   },
   "outputs": [
    {
     "name": "stdout",
     "output_type": "stream",
     "text": [
      "19712 55\n",
      "19712 47\n",
      "19712 39\n",
      "24324 8\n",
      "24324 2\n",
      "24324 3\n",
      "24324 7\n",
      "19718 80\n",
      "19718 73\n",
      "19718 86\n",
      "24332 98\n",
      "24332 99\n",
      "24336 8\n",
      "24336 2\n",
      "24336 3\n",
      "24336 7\n",
      "24340 98\n",
      "24340 99\n",
      "24344 3\n",
      "24348 99\n",
      "1242 39\n",
      "1242 40\n",
      "1242 47\n",
      "1242 48\n",
      "1242 55\n",
      "1242 56\n",
      "24352 2\n",
      "24352 3\n",
      "24356 98\n",
      "24356 99\n",
      "1248 38\n",
      "1248 39\n",
      "1248 46\n",
      "1248 47\n",
      "1248 54\n",
      "1248 55\n",
      "1228 55\n",
      "1228 47\n",
      "1228 39\n",
      "19658 55\n",
      "19658 47\n",
      "19658 39\n",
      "19660 64\n",
      "19660 47\n",
      "19660 48\n",
      "19660 55\n",
      "19660 56\n",
      "19660 63\n",
      "1230 64\n",
      "1230 47\n",
      "1230 48\n",
      "1230 55\n",
      "1230 56\n",
      "1230 63\n",
      "1232 39\n",
      "1232 40\n",
      "1232 47\n",
      "1232 48\n",
      "1232 55\n",
      "1232 56\n",
      "19666 3\n",
      "1236 46\n",
      "1236 47\n",
      "1236 54\n",
      "1236 55\n",
      "1236 62\n",
      "1236 63\n",
      "19662 39\n",
      "19662 40\n",
      "19662 47\n",
      "19662 48\n",
      "19662 55\n",
      "19662 56\n",
      "1238 39\n",
      "1238 40\n",
      "1238 47\n",
      "1238 48\n",
      "1238 55\n",
      "1238 56\n",
      "1240 64\n",
      "1240 47\n",
      "1240 48\n",
      "1240 55\n",
      "1240 56\n",
      "1240 63\n",
      "19674 80\n",
      "19674 81\n",
      "19674 86\n",
      "19674 87\n",
      "19674 92\n",
      "19674 93\n",
      "1244 38\n",
      "1244 39\n",
      "1244 46\n",
      "1244 47\n",
      "1244 54\n",
      "1244 55\n",
      "1246 38\n",
      "1246 39\n",
      "1246 46\n",
      "1246 47\n",
      "1246 54\n",
      "1246 55\n",
      "19680 38\n",
      "19680 39\n",
      "19680 46\n",
      "19680 47\n",
      "19680 54\n",
      "19680 55\n",
      "19682 38\n",
      "19682 39\n",
      "19682 46\n",
      "19682 47\n",
      "19682 54\n",
      "19682 55\n",
      "19684 64\n",
      "19684 47\n",
      "19684 48\n",
      "19684 55\n",
      "19684 56\n",
      "19684 63\n",
      "19686 3\n",
      "19690 80\n",
      "19690 81\n",
      "19690 86\n",
      "19690 87\n",
      "19690 92\n",
      "19690 93\n",
      "1234 38\n",
      "1234 39\n",
      "1234 46\n",
      "1234 47\n",
      "1234 54\n",
      "1234 55\n",
      "19694 64\n",
      "19694 47\n",
      "19694 48\n",
      "19694 55\n",
      "19694 56\n",
      "19694 63\n",
      "19696 39\n",
      "19696 40\n",
      "19696 47\n",
      "19696 48\n",
      "19696 55\n",
      "19696 56\n",
      "19698 39\n",
      "19698 40\n",
      "19698 47\n",
      "19698 48\n",
      "19698 55\n",
      "19698 56\n",
      "19700 3\n",
      "19704 80\n",
      "19704 81\n",
      "19704 86\n",
      "19704 87\n",
      "19704 92\n",
      "19704 93\n",
      "19708 63\n",
      "19708 55\n",
      "19708 47\n",
      "19710 38\n",
      "19710 39\n",
      "19710 46\n",
      "19710 47\n",
      "19710 30\n",
      "19710 31\n"
     ]
    }
   ],
   "source": [
    "for visit, ccds in visitDict.items():\n",
    "    for ccd in ccds:\n",
    "        print visit, ccd"
   ]
  },
  {
   "cell_type": "code",
   "execution_count": null,
   "metadata": {
    "collapsed": true
   },
   "outputs": [],
   "source": []
  }
 ],
 "metadata": {
  "kernelspec": {
   "display_name": "Python 2",
   "language": "python",
   "name": "python2"
  },
  "language_info": {
   "codemirror_mode": {
    "name": "ipython",
    "version": 2
   },
   "file_extension": ".py",
   "mimetype": "text/x-python",
   "name": "python",
   "nbconvert_exporter": "python",
   "pygments_lexer": "ipython2",
   "version": "2.7.6"
  }
 },
 "nbformat": 4,
 "nbformat_minor": 0
}
