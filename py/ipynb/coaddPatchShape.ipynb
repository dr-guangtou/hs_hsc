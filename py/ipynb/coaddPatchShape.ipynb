{
 "cells": [
  {
   "cell_type": "code",
   "execution_count": 1,
   "metadata": {
    "collapsed": false
   },
   "outputs": [
    {
     "name": "stdout",
     "output_type": "stream",
     "text": [
      "Populating the interactive namespace from numpy and matplotlib\n"
     ]
    }
   ],
   "source": [
    "%pylab inline\n",
    "\n",
    "from __future__ import division\n",
    "\n",
    "import numpy as np \n",
    "import os\n",
    "\n",
    "# Shapely related imports \n",
    "from shapely.geometry import Polygon\n",
    "from shapely.geometry import MultiPoint\n",
    "from shapely.geometry import Point\n",
    "from shapely.ops      import cascaded_union\n",
    "from shapely          import wkb \n",
    "\n",
    "from descartes        import PolygonPatch\n",
    "\n",
    "# Astropy related imports \n",
    "from astropy.io    import fits\n",
    "from astropy.table import Table\n",
    "\n",
    "# Matplotlib default settings\n",
    "from matplotlib import pyplot\n",
    "from matplotlib import rc, font_manager\n",
    "rcdef = plt.rcParams.copy()\n",
    "rc('axes', linewidth=2)\n",
    "pylab.rcParams['figure.figsize'] = 14, 10"
   ]
  },
  {
   "cell_type": "code",
   "execution_count": 2,
   "metadata": {
    "collapsed": true
   },
   "outputs": [],
   "source": [
    "# Define a few colors \n",
    "BLUE = '#6699cc'\n",
    "GRAY = '#999999'"
   ]
  },
  {
   "cell_type": "code",
   "execution_count": 5,
   "metadata": {
    "collapsed": false
   },
   "outputs": [],
   "source": [
    "## Open and read the catalog file \n",
    "def readFitsCat(catFile, hdu=1): \n",
    "    \n",
    "    hduList = fits.open(catFile)\n",
    "    catData = hduList[hdu].data \n",
    "    \n",
    "    return catData \n",
    "\n",
    "# Example: Old G-band \n",
    "catG1 = '/home/song/work/early/ssp341_wide_corners/ssp341_wide_HSC-G_corners.fits' \n",
    "patchG1 = readFitsCat(catG1)"
   ]
  },
  {
   "cell_type": "code",
   "execution_count": 6,
   "metadata": {
    "collapsed": false
   },
   "outputs": [],
   "source": [
    "def getPolyList(catData):\n",
    "    polyList = map(lambda x: MultiPoint(((x.field('raLL'), x.field('decLL')),\n",
    "                                     (x.field('raUL'), x.field('decUL')), \n",
    "                                     (x.field('raUR'), x.field('decUR')), \n",
    "                                     (x.field('raLR'), x.field('decLR')))).convex_hull, catData) \n",
    "    return polyList \n",
    "\n",
    "# Get the polygon shape for each image\n",
    "polyList = getPolyList(patchG1)"
   ]
  },
  {
   "cell_type": "code",
   "execution_count": 7,
   "metadata": {
    "collapsed": false
   },
   "outputs": [
    {
     "name": "stdout",
     "output_type": "stream",
     "text": [
      "The total area of the poly region is   87.76 square degree\n"
     ]
    }
   ],
   "source": [
    "def getPolyUnion(polyList):\n",
    "    polyUnion = cascaded_union(polyList)\n",
    "    polyArea  = polyUnion.area\n",
    "    \n",
    "    return polyUnion, polyArea \n",
    "\n",
    "# Get the combined poly region \n",
    "polyUnion, polyArea = getPolyUnion(polyList)\n",
    "print \"The total area of the poly region is %7.2f square degree\" % polyArea"
   ]
  },
  {
   "cell_type": "code",
   "execution_count": 8,
   "metadata": {
    "collapsed": false
   },
   "outputs": [
    {
     "data": {
      "text/plain": [
       "'MultiPolygon'"
      ]
     },
     "execution_count": 8,
     "metadata": {},
     "output_type": "execute_result"
    }
   ],
   "source": [
    "polyUnion.geom_type"
   ]
  },
  {
   "cell_type": "code",
   "execution_count": 9,
   "metadata": {
    "collapsed": false
   },
   "outputs": [
    {
     "name": "stdout",
     "output_type": "stream",
     "text": [
      "30.3951 337.136 -7.35218 3.07134\n"
     ]
    }
   ],
   "source": [
    "def getMinMaxRaDec(catData): \n",
    "    minRa  = np.min([catData.field('raLL').min(), catData.field('raLR').min(), \n",
    "                    catData.field('raUL').min(), catData.field('raUR').min()])\n",
    "    minDec = np.min([catData.field('decLL').min(), catData.field('decLR').min(), \n",
    "                    catData.field('decUL').min(), catData.field('decUR').min()])\n",
    "    maxRa  = np.max([catData.field('raLL').max(), catData.field('raLR').max(), \n",
    "                    catData.field('raUL').max(), catData.field('raUR').max()])\n",
    "    maxDec = np.max([catData.field('decLL').max(), catData.field('decLR').max(), \n",
    "                    catData.field('decUL').max(), catData.field('decUR').max()])\n",
    "    \n",
    "    return minRa, maxRa, minDec, maxDec\n",
    "\n",
    "# Get the min, max of the Ra, Dec \n",
    "minRa, maxRa, minDec, maxDec = getMinMaxRaDec(patchG1)\n",
    "print minRa, maxRa, minDec, maxDec"
   ]
  },
  {
   "cell_type": "code",
   "execution_count": 10,
   "metadata": {
    "collapsed": false
   },
   "outputs": [
    {
     "data": {
      "text/plain": [
       "(-7.552177143096924, 3.2713410377502443)"
      ]
     },
     "execution_count": 10,
     "metadata": {},
     "output_type": "execute_result"
    },
    {
     "data": {
      "image/png": "[encoded data removed]",
      "text/plain": [
       "<matplotlib.figure.Figure at 0x37bd2d0>"
      ]
     },
     "metadata": {},
     "output_type": "display_data"
    }
   ],
   "source": [
    "# Plot the polygons\n",
    "fig = pyplot.figure(1, dpi=100)\n",
    "ax = fig.add_subplot(111)\n",
    "\n",
    "for reg in polyList: \n",
    "    regShow = PolygonPatch(reg, fc=BLUE, alpha=0.6, zorder=1)\n",
    "    ax.add_patch(regShow)\n",
    "\n",
    "if len(polyUnion.geoms) is 1: \n",
    "    unionShow = PolygonPatch(polyUnion, fc=GRAY, alpha=0.3, zorder=2)\n",
    "    ax.add_patch(unionShow)\n",
    "else: \n",
    "    for part in polyUnion.geoms: \n",
    "        partShow = PolygonPatch(part, fc=GRAY, alpha=0.4, zorder=2)\n",
    "        ax.add_patch(partShow)\n",
    "\n",
    "polyBounds = polyUnion.bounds\n",
    "raRange  = [(polyBounds[0]-0.2), (polyBounds[2]+0.2)]\n",
    "decRange = [(polyBounds[1]-0.2), (polyBounds[3]+0.2)]\n",
    "\n",
    "ax.set_xlim(*raRange)\n",
    "ax.set_ylim(*decRange)"
   ]
  },
  {
   "cell_type": "code",
   "execution_count": 44,
   "metadata": {
    "collapsed": false
   },
   "outputs": [
    {
     "data": {
      "image/png": "[encoded data removed]",
      "text/plain": [
       "<matplotlib.figure.Figure at 0x10d34a050>"
      ]
     },
     "metadata": {},
     "output_type": "display_data"
    }
   ],
   "source": [
    "def plotPolyPart(poly, index): \n",
    "    \n",
    "    # Plot the polygons\n",
    "    fig = pyplot.figure(1, dpi=100)\n",
    "    ax = fig.add_subplot(111)\n",
    "\n",
    "    polyParts = poly.geoms\n",
    "    partShow = PolygonPatch(polyParts[index], fc=BLUE, ec=GRAY, \n",
    "                            alpha=0.8, zorder=1)\n",
    "    ax.add_patch(partShow)\n",
    "\n",
    "    polyBounds = polyParts[index].bounds\n",
    "    raRange  = [(polyBounds[0]-0.2), (polyBounds[2]+0.2)]\n",
    "    decRange = [(polyBounds[1]-0.2), (polyBounds[3]+0.2)]\n",
    "\n",
    "    ax.set_xlim(*raRange)\n",
    "    ax.set_ylim(*decRange)\n",
    "   \n",
    "    #plt.rc('text', usetex=True)\n",
    "    ax.set_xlabel(r'RA\\ (deg)',  fontsize=22, fontweight='bold')\n",
    "    ax.set_ylabel(r'DEC\\ (deg)', fontsize=22, fontweight='bold')\n",
    "    \n",
    "    fontsize = 16\n",
    "    for tick in ax.xaxis.get_major_ticks():\n",
    "        tick.label1.set_fontsize(fontsize)\n",
    "    for tick in ax.yaxis.get_major_ticks():\n",
    "        tick.label1.set_fontsize(fontsize)\n",
    "        \n",
    "    ax.minorticks_on()\n",
    "    plt.tick_params(which='major', width=2.0, length=8.0, labelsize=20)      \n",
    "    plt.tick_params(which='minor', width=1.8, length=6.0)      \n",
    "\n",
    "    for axis in ['top','bottom','left','right']:\n",
    "        ax.spines[axis].set_linewidth(2.5)\n",
    "        \n",
    "    ax.grid(alpha=0.6, color='k', linewidth=1.5)\n",
    "\n",
    "    \n",
    "# Only plot a part of the union \n",
    "plotPolyPart(polyUnion, 2)"
   ]
  },
  {
   "cell_type": "code",
   "execution_count": 61,
   "metadata": {
    "collapsed": false
   },
   "outputs": [],
   "source": [
    "def unionBreakDown(unionPoly): \n",
    "    nUnionPart = len(unionPoly.geoms)\n",
    "    if nUnionPart is 1: \n",
    "        return unionPoly, nUnionPart\n",
    "    else: \n",
    "        unionParts = map(lambda x: x, unionPoly.geoms)\n",
    "        return unionParts, nUnionPart\n",
    "\n",
    "# Break the multi-part polygon down to separated regions \n",
    "unionParts = unionBreakDown(polyUnion)"
   ]
  },
  {
   "cell_type": "code",
   "execution_count": 40,
   "metadata": {
    "collapsed": false
   },
   "outputs": [
    {
     "data": {
      "text/plain": [
       "False"
      ]
     },
     "execution_count": 40,
     "metadata": {},
     "output_type": "execute_result"
    }
   ],
   "source": [
    "def isRaDecInside(poly, ra, dec): \n",
    "    \n",
    "    point = Point((ra, dec)) \n",
    "    isInside = point.within(poly)\n",
    "    \n",
    "    return isInside \n",
    "\n",
    "# See whether certain coordinate \n",
    "ra1, dec1 = 35.0, -5.0 \n",
    "ra2, dec2 = 45.0, 5.0 \n",
    "isRaDecInside(polyUnion, ra2, dec2)"
   ]
  },
  {
   "cell_type": "code",
   "execution_count": 124,
   "metadata": {
    "collapsed": false
   },
   "outputs": [],
   "source": [
    "# Examples on Multiple Catalogs \n",
    "\n",
    "catG = 'ssp341_wide_G_corners.fits' \n",
    "catR = 'ssp341_wide_R_corners.fits' \n",
    "catI = 'ssp341_wide_I_corners.fits' \n",
    "\n",
    "patchG = readFitsCat(catG)\n",
    "patchR = readFitsCat(catR)\n",
    "patchI = readFitsCat(catI)\n",
    "\n",
    "listG = getPolyList(patchG)\n",
    "listR = getPolyList(patchR)\n",
    "listI = getPolyList(patchI)\n",
    "\n",
    "unionG, areaG = getPolyUnion(listG)\n",
    "unionR, areaR = getPolyUnion(listR)\n",
    "unionI, areaI = getPolyUnion(listI)\n",
    "\n",
    "partsG, nPartG = unionBreakDown(unionG)\n",
    "partsR, nPartR = unionBreakDown(unionR)\n",
    "partsI, nPartI = unionBreakDown(unionI)"
   ]
  },
  {
   "cell_type": "code",
   "execution_count": 123,
   "metadata": {
    "collapsed": false
   },
   "outputs": [
    {
     "data": {
      "text/plain": [
       "(-7.552177143096924, -2.119822072982788)"
      ]
     },
     "execution_count": 123,
     "metadata": {},
     "output_type": "execute_result"
    },
    {
     "data": {
      "image/png": "[encoded data removed]",
      "text/plain": [
       "<matplotlib.figure.Figure at 0x1146e7350>"
      ]
     },
     "metadata": {},
     "output_type": "display_data"
    }
   ],
   "source": [
    "# The intersection of two polygons \n",
    "polyCommon   = partsI[0].intersection(partsG[0])\n",
    "boundsCommon = partsI[0].union(partsG[0]).bounds\n",
    "\n",
    "# Plot the polygons\n",
    "fig = pyplot.figure(1, dpi=100)\n",
    "ax = fig.add_subplot(111)\n",
    "\n",
    "poly1 = PolygonPatch(partsG[0], fc=BLUE, ec=GRAY, alpha=0.4, zorder=1)\n",
    "poly2 = PolygonPatch(partsI[0], fc='r',  ec=GRAY, alpha=0.2, zorder=2)\n",
    "poly3 = PolygonPatch(polyCommon, fc='none', ec='k', alpha=0.4, zorder=3, \n",
    "                    linewidth=3)\n",
    "\n",
    "ax.add_patch(poly1)\n",
    "ax.add_patch(poly2)\n",
    "ax.add_patch(poly3)\n",
    "\n",
    "raRange  = [(boundsCommon[0]-0.2), (boundsCommon[2]+0.2)]\n",
    "decRange = [(boundsCommon[1]-0.2), (boundsCommon[3]+0.2)]\n",
    "\n",
    "ax.set_xlim(*raRange)\n",
    "ax.set_ylim(*decRange)"
   ]
  },
  {
   "cell_type": "code",
   "execution_count": 140,
   "metadata": {
    "collapsed": false
   },
   "outputs": [
    {
     "data": {
      "text/plain": [
       "(-7.552177143096924, -2.119822072982788)"
      ]
     },
     "execution_count": 140,
     "metadata": {},
     "output_type": "execute_result"
    },
    {
     "data": {
      "image/png": "[encoded data removed]",
      "text/plain": [
       "<matplotlib.figure.Figure at 0x114689090>"
      ]
     },
     "metadata": {},
     "output_type": "display_data"
    }
   ],
   "source": [
    "polyMulti = [partsG[0], partsR[0], partsI[0]]\n",
    "nPoly = len(polyMulti) \n",
    "\n",
    "# Multiple intersections TODO: Don't know if there is better way to do this?\n",
    "if nPoly > 2: \n",
    "    interMulti = polyMulti[0].intersection(polyMulti[1])\n",
    "    for pp in polyMulti[2:]: \n",
    "        interMulti = interMulti.intersection(pp) \n",
    "\n",
    "boundsMulti = cascaded_union(polyMulti).bounds\n",
    "\n",
    "# Plot the polygons\n",
    "fig = pyplot.figure(1, dpi=100)\n",
    "ax = fig.add_subplot(111)\n",
    "\n",
    "poly1 = PolygonPatch(partsG[0], fc='none', ec='b', alpha=0.5, zorder=1, \n",
    "                    linewidth=4)\n",
    "poly2 = PolygonPatch(partsR[0], fc='none', ec='g', alpha=0.6, zorder=2,\n",
    "                    linewidth=3)\n",
    "poly3 = PolygonPatch(partsI[0], fc='none', ec='r', alpha=0.8, zorder=3,\n",
    "                    linewidth=2)\n",
    "\n",
    "poly4 = PolygonPatch(interMulti, fc='none', ec='k', alpha=0.9, zorder=4, \n",
    "                    linewidth=3)\n",
    "\n",
    "ax.add_patch(poly1)\n",
    "ax.add_patch(poly2)\n",
    "ax.add_patch(poly3)\n",
    "ax.add_patch(poly4)\n",
    "\n",
    "raRange  = [(boundsMulti[0]-0.2), (boundsMulti[2]+0.2)]\n",
    "decRange = [(boundsMulti[1]-0.2), (boundsMulti[3]+0.2)]\n",
    "\n",
    "ax.set_xlim(*raRange)\n",
    "ax.set_ylim(*decRange)"
   ]
  },
  {
   "cell_type": "code",
   "execution_count": null,
   "metadata": {
    "collapsed": false
   },
   "outputs": [],
   "source": [
    "def polySaveWkb(poly, wkbName):\n",
    "    \n",
    "    polyWkb = wkb.dumps(poly)\n",
    "    \n",
    "    wkbFile = open(wkbName, 'w')\n",
    "    wkbFile.write(polyWkb.encode('hex'))\n",
    "    wkbFile.close()\n",
    "\n",
    "def polyReadWkb(wkbName, load=True):  \n",
    "    \n",
    "    wkbFile = open(wkbName, 'r')\n",
    "    polyWkb = wkbFile.read().decode('hex') \n",
    "    wkbFile.close() \n",
    "    \n",
    "    if load is True: \n",
    "        return wkb.loads(polyWkb)\n",
    "    else: \n",
    "        return polyWkb\n",
    "\n",
    "def catSummarySave(catFile): \n",
    "    \n",
    "    # Define the name of the output wkb file \n",
    "    catPrefix = os.path.splitext(catFile)[0]\n",
    "    \n",
    "    # Check the cat file \n",
    "    if not os.path.isfile(catFile): \n",
    "        raise Exception('Can not find the input catlog: %s' % catFile) \n",
    "    # Read in the data\n",
    "    catData = readFitsCat(catFile)\n",
    "    \n",
    "    # Get the list of polygons \n",
    "    polyList = getPolyList(catData)\n",
    "\n",
    "    # Get the Union of all polygons and its total area \n",
    "    polyUnion, areaUnion = getPolyUnion(polyList)\n",
    "    # Save a region file \n",
    "    wkbUnion = polySaveWkb(polyUnion, catPrefix + '.wkb')\n",
    "\n",
    "    # Break the Union into separated regions if necessary \n",
    "    polyParts, nParts = unionBreakDown(polyUnion)\n",
    "    if nParts > 1: \n",
    "        for ii in range(nParts): \n",
    "            polySaveWkb(polyParts[ii], catPrefix + '_' + str(ii+1).strip() + '.wkb')\n",
    "    \n",
    "    return polyList, polyUnion"
   ]
  },
  {
   "cell_type": "code",
   "execution_count": 141,
   "metadata": {
    "collapsed": false
   },
   "outputs": [
    {
     "name": "stdout",
     "output_type": "stream",
     "text": [
      "## ssp341_wide_G_corners.fits\n",
      "## ssp341_wide_I_corners.fits\n",
      "## ssp341_wide_R_corners.fits\n",
      "## ssp341_wide_Y_corners.fits\n",
      "## ssp341_wide_Z_corners.fits\n",
      "## ssp361_wide_G_corners.fits\n",
      "## ssp361_wide_I_corners.fits\n",
      "## ssp361_wide_R_corners.fits\n",
      "## ssp361_wide_Y_corners.fits\n",
      "## ssp361_wide_Z_corners.fits\n"
     ]
    }
   ],
   "source": [
    "# Batch-mode \n",
    "import fnmatch \n",
    "\n",
    "location = '.' \n",
    "pattern  = 'ssp*_corners.fits'\n",
    "\n",
    "for fileName in os.listdir(location):\n",
    "    if fnmatch.fnmatch(fileName, pattern):\n",
    "        print ('## ' + fileName) \n",
    "        catSummarySave(fileName) "
   ]
  },
  {
   "cell_type": "code",
   "execution_count": 154,
   "metadata": {
    "collapsed": false
   },
   "outputs": [],
   "source": [
    "def polyMultiCommon(polyMulti): \n",
    "    \n",
    "    nPoly = len(polyMulti) \n",
    "    boundsMulti = cascaded_union(polyMulti).bounds\n",
    "    \n",
    "    # Multiple intersections TODO: Don't know if there is better way to do this?\n",
    "    if nPoly > 2: \n",
    "        interMulti = polyMulti[0].intersection(polyMulti[1])\n",
    "        for pp in polyMulti[2:]: \n",
    "            interMulti = interMulti.intersection(pp) \n",
    "    elif nPoly == 2: \n",
    "        interMulti = polyMulti[0].intersection(polyMulti[1])\n",
    "    else:\n",
    "        print(\"WARNING: only one polygon found!\")\n",
    "        interMulti = polyMulti[0]\n",
    "        \n",
    "    return interMulti, boundsMulti"
   ]
  },
  {
   "cell_type": "code",
   "execution_count": 184,
   "metadata": {
    "collapsed": false
   },
   "outputs": [],
   "source": [
    "# Save the multi-bands common regions \n",
    "hscFilters = 'grizy'\n",
    "\n",
    "ssp341Poly = map(lambda x: polyReadWkb('ssp341_wide_' + x.upper() + '_corners.wkb'), hscFilters)\n",
    "ssp341Inter, ssp341Bounds = polyMultiCommon(ssp341Poly)\n",
    "polySaveWkb(ssp341Inter, 'ssp341_wide_multibands.wkb')\n",
    "\n",
    "ssp361Poly = map(lambda x: polyReadWkb('ssp361_wide_' + x.upper() + '_corners.wkb'), hscFilters)\n",
    "ssp361Inter, ssp361Bounds = polyMultiCommon(ssp361Poly)\n",
    "polySaveWkb(ssp361Inter, 'ssp361_wide_multibands.wkb')"
   ]
  },
  {
   "cell_type": "code",
   "execution_count": 185,
   "metadata": {
    "collapsed": false
   },
   "outputs": [
    {
     "data": {
      "text/plain": [
       "array([ True, False], dtype=bool)"
      ]
     },
     "execution_count": 185,
     "metadata": {},
     "output_type": "execute_result"
    }
   ],
   "source": [
    "def wkbListMatch(wkbFile, raList, decList): \n",
    "    \n",
    "    if not os.path.isfile(wkbFile):\n",
    "        raise Exception('Can not find the .wkb file: %s') % wkbFile\n",
    "    else: \n",
    "        polyWkb = polyReadWkb(wkbFile)\n",
    "        matches = np.array(map(lambda x,y : isRaDecInside(polyWkb, x, y), raList, decList))\n",
    "        return matches \n",
    "\n",
    "# Batch-mode Ra, Dec match based on certain .wkb file \n",
    "rr = np.array([35.0, 100.0])\n",
    "dd = np.array([-5.0, 6.0])\n",
    "ww = 'ssp341_wide_multibands.wkb'\n",
    "mm = wkbListMatch(ww, rr, dd)\n",
    "mm"
   ]
  },
  {
   "cell_type": "code",
   "execution_count": 186,
   "metadata": {
    "collapsed": true
   },
   "outputs": [],
   "source": [
    "def redMapperMatch(wkbFile): \n",
    "    \n",
    "    wkbPrefix = os.path.splitext(wkbFile)[0]\n",
    "    outFits = 'redMapper_' + wkbPrefix + '_match.fits'\n",
    "    \n",
    "    # location of the redMapper catalog file \n",
    "    redDir = '/Users/songhuang/Dropbox/work/hscs/redmapper/redmapper/' \n",
    "    redCat = redDir + 'redmapper_dr8_public_v5.10_catalog_flat.fits' \n",
    "    \n",
    "    redData = fits.open(redCat)[1].data\n",
    "    redRA   = redData.field('RA')\n",
    "    redDEC  = redData.field('DEC')\n",
    "    \n",
    "    indMatch = wkbListMatch(wkbFile, redRA, redDEC)\n",
    "    redMatch = redData[indMatch]\n",
    "    \n",
    "    print(\"Find %d matches!\" % len(redMatch))\n",
    "    redOut = Table(redMatch, names=redMatch.names)\n",
    "    redOut.write(outFits, format='fits')\n",
    "    \n",
    "    return redMatch"
   ]
  },
  {
   "cell_type": "code",
   "execution_count": 187,
   "metadata": {
    "collapsed": false
   },
   "outputs": [
    {
     "name": "stdout",
     "output_type": "stream",
     "text": [
      "Find 241 matches!\n",
      "Find 96 matches!\n"
     ]
    }
   ],
   "source": [
    "mbWkb1 = 'ssp341_wide_multibands.wkb'\n",
    "mbWkb2 = 'ssp361_wide_multibands.wkb'\n",
    "\n",
    "redMatch1 = redMapperMatch(mbWkb1)\n",
    "redMatch2 = redMapperMatch(mbWkb2)"
   ]
  },
  {
   "cell_type": "code",
   "execution_count": 196,
   "metadata": {
    "collapsed": false
   },
   "outputs": [],
   "source": [
    "redNear1 = np.where(redMatch1.field('Z_LAMBDA') <= 0.5)\n",
    "redNear2 = np.where(redMatch2.field('Z_LAMBDA') <= 0.5)"
   ]
  },
  {
   "cell_type": "code",
   "execution_count": 198,
   "metadata": {
    "collapsed": false
   },
   "outputs": [
    {
     "data": {
      "text/plain": [
       "229"
      ]
     },
     "execution_count": 198,
     "metadata": {},
     "output_type": "execute_result"
    }
   ],
   "source": [
    "len(redNear1[0])"
   ]
  },
  {
   "cell_type": "code",
   "execution_count": null,
   "metadata": {
    "collapsed": true
   },
   "outputs": [],
   "source": []
  },
  {
   "cell_type": "code",
   "execution_count": null,
   "metadata": {
    "collapsed": true
   },
   "outputs": [],
   "source": []
  }
 ],
 "metadata": {
  "kernelspec": {
   "display_name": "Python 2",
   "language": "python",
   "name": "python2"
  },
  "language_info": {
   "codemirror_mode": {
    "name": "ipython",
    "version": 2
   },
   "file_extension": ".py",
   "mimetype": "text/x-python",
   "name": "python",
   "nbconvert_exporter": "python",
   "pygments_lexer": "ipython2",
   "version": "2.7.6"
  }
 },
 "nbformat": 4,
 "nbformat_minor": 0
}
