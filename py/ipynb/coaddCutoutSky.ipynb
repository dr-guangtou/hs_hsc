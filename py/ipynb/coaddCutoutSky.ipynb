{
 "cells": [
  {
   "cell_type": "code",
   "execution_count": 1,
   "metadata": {
    "collapsed": false
   },
   "outputs": [
    {
     "name": "stdout",
     "output_type": "stream",
     "text": [
      "Populating the interactive namespace from numpy and matplotlib\n"
     ]
    }
   ],
   "source": [
    "%pylab inline\n",
    "%load_ext autoreload\n",
    "%autoreload 2\n",
    "\n",
    "from __future__ import division \n",
    "\n",
    "import os\n",
    "import copy\n",
    "import argparse\n",
    "import numpy as np\n",
    "import scipy \n",
    "\n",
    "# Matplotlib default settings\n",
    "rcdef = plt.rcParams.copy()\n",
    "pylab.rcParams['figure.figsize'] = 12, 10\n",
    "pylab.rcParams['xtick.major.size'] = 8.0\n",
    "pylab.rcParams['xtick.major.width'] = 1.5\n",
    "pylab.rcParams['xtick.minor.size'] = 4.0\n",
    "pylab.rcParams['xtick.minor.width'] = 1.5\n",
    "pylab.rcParams['ytick.major.size'] = 8.0\n",
    "pylab.rcParams['ytick.major.width'] = 1.5\n",
    "pylab.rcParams['ytick.minor.size'] = 4.0\n",
    "pylab.rcParams['ytick.minor.width'] = 1.5\n",
    "rc('axes', linewidth=2)\n",
    "\n",
    "# Astropy\n",
    "from astropy.io import fits \n",
    "from astropy import units as u\n",
    "from astropy.stats import sigma_clip\n",
    "# AstroML\n",
    "from astroML.plotting import hist\n",
    "\n",
    "# Cubehelix color scheme\n",
    "import cubehelix  # Cubehelix color scheme from https://github.com/jradavenport/cubehelix\n",
    "\n",
    "cmap1 = cubehelix.cmap(start=0.5, rot=-0.8, gamma=1.0, \n",
    "                       minSat=1.2, maxSat=1.2, \n",
    "                       minLight=0.0, maxLight=1.0)\n",
    "cmap2 = cubehelix.cmap(start=2.0, rot=-1.0, gamma=2.5, \n",
    "                       minSat=1.2, maxSat=1.2, \n",
    "                       minLight=0.0, maxLight=1.0, reverse=True)\n",
    "cmap3 = cubehelix.cmap(start=0.5, rot=-0.8, gamma=1.2, \n",
    "                       minSat=1.2, maxSat=1.2, \n",
    "                       minLight=0.0, maxLight=1.0)\n",
    "cmap4 = cubehelix.cmap(start=0.5, rot=-0.8, gamma=0.7, \n",
    "                       minSat=1.2, maxSat=1.2, \n",
    "                       minLight=0.0, maxLight=1.0)\n",
    "\n",
    "# Personal \n",
    "import hscUtils as hUtil"
   ]
  },
  {
   "cell_type": "code",
   "execution_count": 2,
   "metadata": {
    "collapsed": true
   },
   "outputs": [],
   "source": [
    "def showSkyHist(skypix, skypix2=None, pngName='skyhist.png'):\n",
    "    \"\"\"\n",
    "    Plot the distribution of sky pixels\n",
    "\n",
    "    \"\"\"\n",
    "    fig = plt.figure(figsize=(10, 6))\n",
    "    ax = fig.add_subplot(111)\n",
    "    fig.subplots_adjust(hspace=0.1, wspace=0.1,\n",
    "                        top=0.95, right=0.95)\n",
    "    fontsize = 18\n",
    "    ax.minorticks_on()\n",
    "\n",
    "    ax.set_xlim(-0.7, 1.0)\n",
    "\n",
    "    for tick in ax.xaxis.get_major_ticks():\n",
    "        tick.label1.set_fontsize(fontsize)\n",
    "    for tick in ax.yaxis.get_major_ticks():\n",
    "        tick.label1.set_fontsize(fontsize)\n",
    "\n",
    "    counts1, bins2, patches3 = hist(skypix, bins='knuth', ax=ax, alpha=0.4,\n",
    "                                    color='cyan', histtype='stepfilled', normed=True)\n",
    "    counts1, bins2, patches3 = hist(skypix2, bins='knuth', ax=ax, alpha=0.9,\n",
    "                                    color='k', histtype='step', normed=True, linewidth=2)\n",
    "\n",
    "\n",
    "    ax.axvline(0.0, linestyle='-', color='k', linewidth=1.5)\n",
    "    ax.axvline(np.nanmedian(skypix), linestyle='--', color='b', linewidth=1.5)\n",
    "\n",
    "    ax.set_xlabel('Pixel Value', fontsize=20)\n",
    "    # TODO: Adjust axes range ; Add sky information\n",
    "\n",
    "    fig.savefig(pngName)\n",
    "    plt.close(fig)"
   ]
  },
  {
   "cell_type": "code",
   "execution_count": null,
   "metadata": {
    "collapsed": true
   },
   "outputs": [],
   "source": []
  }
 ],
 "metadata": {
  "kernelspec": {
   "display_name": "Python 2",
   "language": "python",
   "name": "python2"
  },
  "language_info": {
   "codemirror_mode": {
    "name": "ipython",
    "version": 2
   },
   "file_extension": ".py",
   "mimetype": "text/x-python",
   "name": "python",
   "nbconvert_exporter": "python",
   "pygments_lexer": "ipython2",
   "version": "2.7.9"
  }
 },
 "nbformat": 4,
 "nbformat_minor": 0
}
