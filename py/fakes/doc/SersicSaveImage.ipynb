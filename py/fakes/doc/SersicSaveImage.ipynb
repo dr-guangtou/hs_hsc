{
 "metadata": {
  "name": "",
  "signature": "sha256:b453980ed268e1ddf3da88a84b6dd7da0cb5486a06dc9c6f75b9f1e9241c7a5d"
 },
 "nbformat": 3,
 "nbformat_minor": 0,
 "worksheets": [
  {
   "cells": [
    {
     "cell_type": "code",
     "collapsed": false,
     "input": [
      "import galsim\n",
      "import time\n",
      "import numpy as np\n",
      "import matplotlib.pyplot as plt\n",
      "import astropy.io.fits as fits"
     ],
     "language": "python",
     "metadata": {},
     "outputs": [],
     "prompt_number": 1
    },
    {
     "cell_type": "heading",
     "level": 2,
     "metadata": {},
     "source": [
      "Decide the parameters for Sersic component"
     ]
    },
    {
     "cell_type": "code",
     "collapsed": false,
     "input": [
      "flux = 1.00e5\n",
      "nser = 1.0   \n",
      "reff = 25.0   \n",
      "ba   = 1.0\n",
      "pa   = 45.0\n",
      "name = 'ser1'\n",
      "zp   = 26.0\n",
      "mag  = -2.5 * np.log10(flux) + zp\n",
      "scale = 1.0\n",
      "print mag"
     ],
     "language": "python",
     "metadata": {},
     "outputs": [
      {
       "output_type": "stream",
       "stream": "stdout",
       "text": [
        "13.5\n"
       ]
      }
     ],
     "prompt_number": 2
    },
    {
     "cell_type": "code",
     "collapsed": false,
     "input": [
      "psfObj = galsim.Gaussian(fwhm=2.0)\n",
      "psfImg = psfObj.drawImage(scale=scale)\n",
      "galsim.fits.write(psfImg, file_name='psf.fits')"
     ],
     "language": "python",
     "metadata": {},
     "outputs": [],
     "prompt_number": 3
    },
    {
     "cell_type": "heading",
     "level": 2,
     "metadata": {},
     "source": [
      "Decide the parameter for truncation"
     ]
    },
    {
     "cell_type": "code",
     "collapsed": false,
     "input": [
      "trunc = int(10.0 * reff)\n",
      "method = 'auto'"
     ],
     "language": "python",
     "metadata": {},
     "outputs": [],
     "prompt_number": 4
    },
    {
     "cell_type": "code",
     "collapsed": false,
     "input": [
      "serTrun = galsim.Sersic(nser, half_light_radius=reff, trunc=trunc)\n",
      "serTrun = serTrun.withFlux(flux)\n",
      "serTrun = serTrun.shear(q=ba, beta=0.0*galsim.degrees)\n",
      "serTrun = serTrun.rotate(pa*galsim.degrees)\n",
      "#serTrun = galsim.Convolve([serTrun, psfObj])\n",
      "serImg  = serTrun.drawImage(method=method, scale=scale)\n",
      "#serImg.addNoise(galsim.PoissonNoise())\n",
      "#serImg.addNoise(galsim.CCDNoise())\n",
      "galsim.fits.write(serImg, file_name=name + \".fits\")"
     ],
     "language": "python",
     "metadata": {},
     "outputs": [],
     "prompt_number": 5
    },
    {
     "cell_type": "code",
     "collapsed": false,
     "input": [
      "img = fits.open(name + \".fits\")[0].data"
     ],
     "language": "python",
     "metadata": {},
     "outputs": [],
     "prompt_number": 6
    },
    {
     "cell_type": "code",
     "collapsed": false,
     "input": [
      "scale = scale\n",
      "xwidth, ywidth = img.shape\n",
      "xcen, ycen = (xwidth/2.0), (ywidth/2.0)\n",
      "print xwidth, ywidth, xcen, ycen \n",
      "xbox, ybox = xwidth, ywidth"
     ],
     "language": "python",
     "metadata": {},
     "outputs": [
      {
       "output_type": "stream",
       "stream": "stdout",
       "text": [
        "224 224 112.0 112.0\n"
       ]
      }
     ],
     "prompt_number": 7
    },
    {
     "cell_type": "code",
     "collapsed": false,
     "input": [],
     "language": "python",
     "metadata": {},
     "outputs": []
    }
   ],
   "metadata": {}
  }
 ]
}